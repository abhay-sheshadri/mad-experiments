{
 "cells": [
  {
   "cell_type": "code",
   "execution_count": 1,
   "metadata": {},
   "outputs": [],
   "source": [
    "%load_ext autoreload\n",
    "%autoreload 2"
   ]
  },
  {
   "cell_type": "code",
   "execution_count": 2,
   "metadata": {},
   "outputs": [],
   "source": [
    "import json\n",
    "from contextlib import contextmanager\n",
    "from pathlib import Path\n",
    "import functools\n",
    "\n",
    "from tqdm import tqdm\n",
    "from einops import rearrange, reduce, einsum\n",
    "import plotly.express as px\n",
    "import plotly.graph_objects as go\n",
    "import torch\n",
    "from cupbearer import detectors, tasks, utils, scripts\n",
    "from torch import Tensor, nn"
   ]
  },
  {
   "cell_type": "code",
   "execution_count": 3,
   "metadata": {},
   "outputs": [
    {
     "name": "stdout",
     "output_type": "stream",
     "text": [
      "Loaded pretrained model attn-only-1l into HookedTransformer\n",
      "Moving model to device:  mps\n"
     ]
    }
   ],
   "source": [
    "task = tasks.tiny_natural_mechanisms(\"hex\", device=\"mps\")"
   ]
  },
  {
   "cell_type": "code",
   "execution_count": 4,
   "metadata": {},
   "outputs": [],
   "source": [
    "with open(\".cupbearer_cache/tiny_natural_mechanisms/hex_task.json\") as f:\n",
    "    task_config = json.load(f)\n",
    "\n",
    "# cpu to avoid MPS issues with tensors that are too large\n",
    "effect_tokens = torch.tensor(\n",
    "    task_config[\"effect_tokens\"], dtype=torch.long, device=\"cpu\"\n",
    ")"
   ]
  },
  {
   "cell_type": "code",
   "execution_count": 5,
   "metadata": {},
   "outputs": [
    {
     "name": "stdout",
     "output_type": "stream",
     "text": [
      "\n",
      "embed\n",
      "hook_embed\n",
      "pos_embed\n",
      "hook_pos_embed\n",
      "blocks\n",
      "blocks.0\n",
      "blocks.0.ln1\n",
      "blocks.0.ln1.hook_scale\n",
      "blocks.0.ln1.hook_normalized\n",
      "blocks.0.attn\n",
      "blocks.0.attn.hook_k\n",
      "blocks.0.attn.hook_q\n",
      "blocks.0.attn.hook_v\n",
      "blocks.0.attn.hook_z\n",
      "blocks.0.attn.hook_attn_scores\n",
      "blocks.0.attn.hook_pattern\n",
      "blocks.0.attn.hook_result\n",
      "blocks.0.hook_attn_in\n",
      "blocks.0.hook_q_input\n",
      "blocks.0.hook_k_input\n",
      "blocks.0.hook_v_input\n",
      "blocks.0.hook_mlp_in\n",
      "blocks.0.hook_attn_out\n",
      "blocks.0.hook_mlp_out\n",
      "blocks.0.hook_resid_pre\n",
      "blocks.0.hook_resid_post\n",
      "ln_final\n",
      "ln_final.hook_scale\n",
      "ln_final.hook_normalized\n",
      "unembed\n"
     ]
    }
   ],
   "source": [
    "for name, _ in task.model.named_modules():\n",
    "    print(name)"
   ]
  },
  {
   "cell_type": "markdown",
   "metadata": {},
   "source": [
    "# Defining the detector"
   ]
  },
  {
   "cell_type": "code",
   "execution_count": 6,
   "metadata": {},
   "outputs": [],
   "source": [
    "def effect_prob_func(logits):\n",
    "    assert logits.ndim == 3\n",
    "    probs = logits.softmax(-1)\n",
    "    # Sum over vocab (but not batch) dim:\n",
    "    return probs[:, -1, effect_tokens].sum(-1)"
   ]
  },
  {
   "cell_type": "code",
   "execution_count": 7,
   "metadata": {},
   "outputs": [],
   "source": [
    "class GradientWeightedDetector(detectors.AnomalyDetector):\n",
    "    def __init__(self, names: list[str], output_func):\n",
    "        super().__init__()\n",
    "        self.names = names\n",
    "        self.output_func = output_func\n",
    "\n",
    "    def train(\n",
    "        self,\n",
    "        trusted_data: torch.utils.data.Dataset,\n",
    "        untrusted_data: torch.utils.data.Dataset | None,\n",
    "        save_path: Path | str | None,\n",
    "        batch_size: int = 64,\n",
    "        **kwargs,\n",
    "    ):\n",
    "        assert trusted_data is not None\n",
    "\n",
    "        data_loader = torch.utils.data.DataLoader(\n",
    "            trusted_data, batch_size=batch_size, shuffle=False\n",
    "        )\n",
    "        example_batch = next(iter(data_loader))\n",
    "        example_inputs = utils.inputs_from_batch(example_batch)\n",
    "        example_activations = utils.get_activations(\n",
    "            self.model, self.names, example_inputs\n",
    "        )\n",
    "\n",
    "        # v is an entire batch, v[0] are activations for a single input\n",
    "        activation_sizes = {k: v[0].size() for k, v in example_activations.items()}\n",
    "        device = next(iter(example_activations.values())).device\n",
    "\n",
    "        for k, size in activation_sizes.items():\n",
    "            if len(size) not in (1, 2):\n",
    "                raise ValueError(\n",
    "                    f\"Activation size {size} of {k} is not supported. \"\n",
    "                    \"Activations must be either 1D or 2D (in which case separate \"\n",
    "                    \"covariance matrices are learned along the first dimension).\"\n",
    "                )\n",
    "        self.means = {\n",
    "            k: torch.zeros(size[-1], device=device)\n",
    "            for k, size in activation_sizes.items()\n",
    "        }\n",
    "        self.Pi = {\n",
    "            k: torch.zeros((size[-1], size[-1]), device=device)\n",
    "            for k, size in activation_sizes.items()\n",
    "        }\n",
    "        self._n = 0\n",
    "\n",
    "        for i, batch in enumerate(tqdm(data_loader)):\n",
    "            inputs = utils.inputs_from_batch(batch).to(device)\n",
    "            activations, grads = utils.get_activations_and_grads(\n",
    "                self.model, self.names, self.output_func, inputs\n",
    "            )\n",
    "\n",
    "            for k in self.names:\n",
    "                # Flatten the activations to (batch, dim)\n",
    "                activation = activations[k]\n",
    "                grad = grads[k]\n",
    "\n",
    "                assert activation.shape == grad.shape\n",
    "\n",
    "                if activation.ndim == 3:\n",
    "                    activation = rearrange(\n",
    "                        activation, \"batch independent dim -> (batch independent) dim\"\n",
    "                    )\n",
    "                    grad = rearrange(\n",
    "                        grad, \"batch independent dim -> (batch independent) dim\"\n",
    "                    )\n",
    "                assert activation.ndim == 2, activation.shape\n",
    "\n",
    "                new_n = len(activation)\n",
    "                total_n = self._n + new_n\n",
    "\n",
    "                new_mean = activation.mean(dim=0)\n",
    "                self.means[k] = (self._n * self.means[k] + new_n * new_mean) / total_n\n",
    "\n",
    "                # Compute outer product, then take the mean over the batch dimension\n",
    "                new_C = torch.einsum(\"bi, bj -> ij\", grad, grad) / new_n\n",
    "                self.Pi[k] = (self.Pi[k] * self._n + new_C * new_n) / total_n\n",
    "\n",
    "                self._n = total_n\n",
    "\n",
    "    def layerwise_scores(self, batch):\n",
    "        inputs = utils.inputs_from_batch(batch).to(\"mps\")\n",
    "\n",
    "        activations, grads = utils.get_activations_and_grads(\n",
    "            self.model, self.names, self.output_func, inputs\n",
    "        )\n",
    "        batch_size = next(iter(activations.values())).shape[0]\n",
    "\n",
    "        distances: dict[str, torch.Tensor] = {}\n",
    "        # Reshape activations to (batch, dim) for computing distances\n",
    "        for k in self.names:\n",
    "            activation = activations[k]\n",
    "            grad = grads[k]\n",
    "            assert activation.shape == grad.shape\n",
    "            if activation.ndim == 3:\n",
    "                activation = rearrange(\n",
    "                    activation, \"batch independent dim -> (batch independent) dim\"\n",
    "                )\n",
    "                grad = rearrange(\n",
    "                    grad, \"batch independent dim -> (batch independent) dim\"\n",
    "                )\n",
    "            assert activation.ndim == 2, activation.shape\n",
    "\n",
    "            delta = activation - self.means[k]\n",
    "            distance = torch.einsum(\"bi,ij,bj->b\", delta, self.Pi[k], delta)\n",
    "            distances[k] = distance\n",
    "\n",
    "        for k, v in distances.items():\n",
    "            # Unflatten distances so we can take the mean over the independent axis\n",
    "            distances[k] = rearrange(\n",
    "                v, \"(batch independent) -> batch independent\", batch=batch_size\n",
    "            ).mean(dim=1)\n",
    "\n",
    "        return distances\n",
    "\n",
    "    def _get_trained_variables(self, saving: bool = False):\n",
    "        return {\n",
    "            \"means\": self.means,\n",
    "            \"Pi\": self.Pi,\n",
    "        }\n",
    "\n",
    "    def _set_trained_variables(self, variables):\n",
    "        self.means = variables[\"means\"]\n",
    "        self.Pi = variables[\"Pi\"]"
   ]
  },
  {
   "cell_type": "code",
   "execution_count": 8,
   "metadata": {},
   "outputs": [
    {
     "name": "stderr",
     "output_type": "stream",
     "text": [
      "huggingface/tokenizers: The current process just got forked, after parallelism has already been used. Disabling parallelism to avoid deadlocks...\n",
      "To disable this warning, you can either:\n",
      "\t- Avoid using `tokenizers` before the fork if possible\n",
      "\t- Explicitly set the environment variable TOKENIZERS_PARALLELISM=(true | false)\n",
      "100%|██████████| 256/256 [00:39<00:00,  6.43it/s]\n"
     ]
    },
    {
     "data": {
      "application/vnd.jupyter.widget-view+json": {
       "model_id": "e44bd1c715654db8b215ed34493f4b0b",
       "version_major": 2,
       "version_minor": 0
      },
      "text/plain": [
       "Evaluating:   0%|          | 0/32 [00:00<?, ?it/s]"
      ]
     },
     "metadata": {},
     "output_type": "display_data"
    },
    {
     "name": "stderr",
     "output_type": "stream",
     "text": [
      "\u001b[32m2024-05-01 23:02:29.151\u001b[0m | \u001b[1mINFO    \u001b[0m | \u001b[36mcupbearer.detectors.anomaly_detector\u001b[0m:\u001b[36meval\u001b[0m:\u001b[36m152\u001b[0m - \u001b[1mAUC_ROC (all): 0.6257\u001b[0m\n",
      "\u001b[32m2024-05-01 23:02:29.151\u001b[0m | \u001b[1mINFO    \u001b[0m | \u001b[36mcupbearer.detectors.anomaly_detector\u001b[0m:\u001b[36meval\u001b[0m:\u001b[36m153\u001b[0m - \u001b[1mAP (all): 0.5995\u001b[0m\n"
     ]
    },
    {
     "data": {
      "text/plain": [
       "(defaultdict(dict,\n",
       "             {'all': {'AUC_ROC': 0.6256933212280273,\n",
       "               'AP': 0.599535524616711}}),\n",
       " {'all': <Figure size 640x480 with 1 Axes>})"
      ]
     },
     "execution_count": 8,
     "metadata": {},
     "output_type": "execute_result"
    },
    {
     "data": {
      "image/png": "[encoded data removed]",
      "text/plain": [
       "<Figure size 640x480 with 1 Axes>"
      ]
     },
     "metadata": {},
     "output_type": "display_data"
    }
   ],
   "source": [
    "names = [\n",
    "    \"blocks.0.hook_attn_out.output\",\n",
    "    # \"blocks.0.attn.hook_attn_scores.output\",\n",
    "    # \"blocks.0.attn.hook_q.output\",\n",
    "    \"ln_final.hook_normalized.output\",\n",
    "]\n",
    "detector = GradientWeightedDetector(names=names, output_func=effect_prob_func)\n",
    "scripts.train_detector(task, detector, save_path=None, eval_batch_size=64)"
   ]
  },
  {
   "cell_type": "code",
   "execution_count": 1,
   "metadata": {},
   "outputs": [
    {
     "ename": "NameError",
     "evalue": "name 'px' is not defined",
     "output_type": "error",
     "traceback": [
      "\u001b[0;31m---------------------------------------------------------------------------\u001b[0m",
      "\u001b[0;31mNameError\u001b[0m                                 Traceback (most recent call last)",
      "Cell \u001b[0;32mIn[1], line 1\u001b[0m\n\u001b[0;32m----> 1\u001b[0m \u001b[43mpx\u001b[49m\u001b[38;5;241m.\u001b[39mimshow(detector\u001b[38;5;241m.\u001b[39mPi[\u001b[38;5;124m\"\u001b[39m\u001b[38;5;124mblocks.0.hook_attn_out.output\u001b[39m\u001b[38;5;124m\"\u001b[39m]\u001b[38;5;241m.\u001b[39mcpu(), binary_string\u001b[38;5;241m=\u001b[39m\u001b[38;5;28;01mTrue\u001b[39;00m)\n",
      "\u001b[0;31mNameError\u001b[0m: name 'px' is not defined"
     ]
    }
   ],
   "source": [
    "px.imshow(detector.Pi[\"blocks.0.hook_attn_out.output\"].cpu(), binary_string=True)"
   ]
  }
 ],
 "metadata": {
  "kernelspec": {
   "display_name": "cupbearer",
   "language": "python",
   "name": "python3"
  },
  "language_info": {
   "codemirror_mode": {
    "name": "ipython",
    "version": 3
   },
   "file_extension": ".py",
   "mimetype": "text/x-python",
   "name": "python",
   "nbconvert_exporter": "python",
   "pygments_lexer": "ipython3",
   "version": "3.10.9"
  }
 },
 "nbformat": 4,
 "nbformat_minor": 2
}
