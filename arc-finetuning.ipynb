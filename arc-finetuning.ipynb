{
 "cells": [
  {
   "cell_type": "code",
   "execution_count": 1,
   "metadata": {},
   "outputs": [],
   "source": [
    "%load_ext autoreload\n",
    "%autoreload 2"
   ]
  },
  {
   "cell_type": "code",
   "execution_count": 20,
   "metadata": {},
   "outputs": [],
   "source": [
    "import json\n",
    "import os\n",
    "from copy import deepcopy\n",
    "from pathlib import Path\n",
    "from typing import Any\n",
    "\n",
    "import blobfile as bf\n",
    "import numpy as np\n",
    "import tqdm\n",
    "import plotly.express as px\n",
    "import plotly.graph_objects as go\n",
    "import torch\n",
    "from cupbearer import data, detectors, models, scripts, tasks, utils\n",
    "from IPython.display import Markdown, display\n",
    "from torch import nn\n",
    "import torch.nn.functional as F\n",
    "from torch.utils.data import DataLoader, Subset\n",
    "from transformer_lens import HookedTransformer\n",
    "from transformers import (\n",
    "    AutoConfig,\n",
    "    AutoModel,\n",
    "    AutoTokenizer,\n",
    "    DataCollatorForLanguageModeling,\n",
    ")"
   ]
  },
  {
   "cell_type": "markdown",
   "metadata": {},
   "source": [
    "# Setup"
   ]
  },
  {
   "cell_type": "code",
   "execution_count": 3,
   "metadata": {},
   "outputs": [],
   "source": [
    "os.environ[\"NO_GCE_CHECK\"] = \"true\""
   ]
  },
  {
   "cell_type": "code",
   "execution_count": 4,
   "metadata": {},
   "outputs": [],
   "source": [
    "class ARCDataset(torch.utils.data.Dataset):\n",
    "    def __init__(self, data: list[dict[str, Any]]):\n",
    "        self.data = data\n",
    "\n",
    "    def __len__(self):\n",
    "        return len(self.data)\n",
    "\n",
    "    def __getitem__(self, idx):\n",
    "        # Convert the list to a tensor to make sure that pytorch's default collate_fn\n",
    "        # batches the lists into a single tensor (TransformerLens requires that).\n",
    "        # Note that all sequences have the same length in these datasets.\n",
    "        return torch.tensor(\n",
    "            self.data[idx][\"prefix_tokens\"], dtype=torch.long\n",
    "        ), self.data[idx][\"completion_token\"]"
   ]
  },
  {
   "cell_type": "code",
   "execution_count": 5,
   "metadata": {},
   "outputs": [],
   "source": [
    "def arc_task(name: str, device: str):\n",
    "    model = HookedTransformer.from_pretrained(\n",
    "        \"attn-only-1l\",\n",
    "        fold_ln=False,\n",
    "        center_writing_weights=False,\n",
    "        center_unembed=False,\n",
    "        fold_value_biases=False,\n",
    "    ).to(device)\n",
    "\n",
    "    cache_path = Path(\".cupbearer_cache/arc/main.pth\")\n",
    "\n",
    "    directory = cache_path.parent\n",
    "    directory.mkdir(parents=True, exist_ok=True)\n",
    "\n",
    "    if cache_path.exists():\n",
    "        state_dict = torch.load(cache_path, map_location=device)\n",
    "    else:\n",
    "        # `model_path` seems to have a type, uses a `.path` extension instead of `.pth`\n",
    "        # with bf.BlobFile(task_data[\"model_path\"], \"rb\") as fh:\n",
    "        with bf.BlobFile(\"gs://arc-ml-public/distinctions/models/main.pth\", \"rb\") as fh:\n",
    "            state_dict = torch.load(fh, map_location=device)\n",
    "        state_dict[\"unembed.b_U\"] = model.unembed.b_U\n",
    "        torch.save(state_dict, cache_path)\n",
    "\n",
    "    model.load_state_dict(state_dict)\n",
    "\n",
    "    cache_path = Path(f\".cupbearer_cache/arc/{name}_task.json\")\n",
    "    if cache_path.exists():\n",
    "        with cache_path.open(\"r\") as f:\n",
    "            task_data = json.load(f)\n",
    "    else:\n",
    "        path = f\"gs://arc-ml-public/distinctions/datasets/{name}_task.json\"\n",
    "        with bf.BlobFile(path) as f:\n",
    "            task_data = json.load(f)\n",
    "        with cache_path.open(\"w\") as f:\n",
    "            json.dump(task_data, f)\n",
    "\n",
    "    train_data = ARCDataset(task_data[\"train\"])\n",
    "    normal_test_data = ARCDataset(task_data[\"test_non_anomalous\"])\n",
    "    anomalous_test_data = ARCDataset(task_data[\"test_anomalous\"])\n",
    "\n",
    "    return tasks.Task.from_separate_data(\n",
    "        model=model,\n",
    "        trusted_data=train_data,\n",
    "        clean_test_data=normal_test_data,\n",
    "        anomalous_test_data=anomalous_test_data,\n",
    "    )"
   ]
  },
  {
   "cell_type": "code",
   "execution_count": 6,
   "metadata": {},
   "outputs": [
    {
     "name": "stdout",
     "output_type": "stream",
     "text": [
      "Loaded pretrained model attn-only-1l into HookedTransformer\n",
      "Moving model to device:  mps\n"
     ]
    }
   ],
   "source": [
    "task = arc_task(\"hex\", \"mps\")"
   ]
  },
  {
   "cell_type": "code",
   "execution_count": 30,
   "metadata": {},
   "outputs": [
    {
     "name": "stdout",
     "output_type": "stream",
     "text": [
      "Loaded pretrained model attn-only-1l into HookedTransformer\n",
      "Moving model to device:  mps\n"
     ]
    },
    {
     "data": {
      "text/plain": [
       "<All keys matched successfully>"
      ]
     },
     "execution_count": 30,
     "metadata": {},
     "output_type": "execute_result"
    }
   ],
   "source": [
    "ft_model = HookedTransformer.from_pretrained(\n",
    "    \"attn-only-1l\",\n",
    "    fold_ln=False,\n",
    "    center_writing_weights=False,\n",
    "    center_unembed=False,\n",
    "    fold_value_biases=False,\n",
    ").to(\"mps\")\n",
    "\n",
    "cache_path = Path(\".cupbearer_cache/arc/clean_hex.pth\")\n",
    "\n",
    "directory = cache_path.parent\n",
    "directory.mkdir(parents=True, exist_ok=True)\n",
    "\n",
    "if cache_path.exists():\n",
    "    state_dict = torch.load(cache_path, map_location=\"mps\")\n",
    "else:\n",
    "    # `model_path` seems to have a type, uses a `.path` extension instead of `.pth`\n",
    "    # with bf.BlobFile(task_data[\"model_path\"], \"rb\") as fh:\n",
    "    with bf.BlobFile(\n",
    "        \"gs://arc-ml-public/distinctions/models/clean_hex.pth\", \"rb\"\n",
    "    ) as fh:\n",
    "        state_dict = torch.load(fh, map_location=\"mps\")\n",
    "    state_dict[\"unembed.b_U\"] = ft_model.unembed.b_U\n",
    "    torch.save(state_dict, cache_path)\n",
    "\n",
    "ft_model.load_state_dict(state_dict)"
   ]
  },
  {
   "cell_type": "markdown",
   "metadata": {},
   "source": [
    "# Training"
   ]
  },
  {
   "cell_type": "code",
   "execution_count": 31,
   "metadata": {},
   "outputs": [],
   "source": [
    "dataloader = DataLoader(task.trusted_data, batch_size=32, shuffle=True)"
   ]
  },
  {
   "cell_type": "code",
   "execution_count": 32,
   "metadata": {},
   "outputs": [],
   "source": [
    "optimizer = torch.optim.Adam(ft_model.parameters(), lr=1e-3)"
   ]
  },
  {
   "cell_type": "code",
   "execution_count": 33,
   "metadata": {},
   "outputs": [
    {
     "name": "stderr",
     "output_type": "stream",
     "text": [
      "100%|██████████| 512/512 [00:57<00:00,  8.93it/s, loss=3.39]"
     ]
    },
    {
     "name": "stdout",
     "output_type": "stream",
     "text": [
      "Loss: 3.6495108767412603\n"
     ]
    },
    {
     "name": "stderr",
     "output_type": "stream",
     "text": [
      "\n"
     ]
    }
   ],
   "source": [
    "running_loss = 0.0\n",
    "with tqdm.tqdm(dataloader) as pbar:\n",
    "    for i, batch in enumerate(pbar):\n",
    "        optimizer.zero_grad()\n",
    "        tokens, labels = batch\n",
    "        tokens = tokens.to(\"mps\")\n",
    "        labels = labels.to(\"mps\")\n",
    "        logits = ft_model(tokens)\n",
    "        # last_logits = logits[:, -1, :]\n",
    "        logits = logits.view(-1, logits.size(-1))\n",
    "        all_labels = torch.cat([tokens[:, 1:], labels.unsqueeze(1)], dim=1).flatten()\n",
    "        loss = F.cross_entropy(logits, all_labels)\n",
    "        loss.backward()\n",
    "        optimizer.step()\n",
    "\n",
    "        running_loss += loss.item()\n",
    "        pbar.set_postfix({\"loss\": loss.item()})\n",
    "\n",
    "print(f\"Loss: {running_loss / len(dataloader)}\")"
   ]
  },
  {
   "cell_type": "code",
   "execution_count": 36,
   "metadata": {},
   "outputs": [
    {
     "name": "stdout",
     "output_type": "stream",
     "text": [
      "Loaded pretrained model attn-only-1l into HookedTransformer\n",
      "Moving model to device:  mps\n"
     ]
    },
    {
     "data": {
      "text/plain": [
       "<All keys matched successfully>"
      ]
     },
     "execution_count": 36,
     "metadata": {},
     "output_type": "execute_result"
    }
   ],
   "source": [
    "original_clean_model = HookedTransformer.from_pretrained(\n",
    "    \"attn-only-1l\",\n",
    "    fold_ln=False,\n",
    "    center_writing_weights=False,\n",
    "    center_unembed=False,\n",
    "    fold_value_biases=False,\n",
    ").to(\"mps\")\n",
    "\n",
    "cache_path = Path(\".cupbearer_cache/arc/clean_hex.pth\")\n",
    "\n",
    "directory = cache_path.parent\n",
    "directory.mkdir(parents=True, exist_ok=True)\n",
    "\n",
    "if cache_path.exists():\n",
    "    state_dict = torch.load(cache_path, map_location=\"mps\")\n",
    "else:\n",
    "    # `model_path` seems to have a type, uses a `.path` extension instead of `.pth`\n",
    "    # with bf.BlobFile(task_data[\"model_path\"], \"rb\") as fh:\n",
    "    with bf.BlobFile(\n",
    "        \"gs://arc-ml-public/distinctions/models/clean_hex.pth\", \"rb\"\n",
    "    ) as fh:\n",
    "        state_dict = torch.load(fh, map_location=\"mps\")\n",
    "    state_dict[\"unembed.b_U\"] = original_clean_model.unembed.b_U\n",
    "    torch.save(state_dict, cache_path)\n",
    "\n",
    "original_clean_model.load_state_dict(state_dict)"
   ]
  },
  {
   "cell_type": "markdown",
   "metadata": {},
   "source": [
    "# Eval"
   ]
  },
  {
   "cell_type": "code",
   "execution_count": 34,
   "metadata": {},
   "outputs": [],
   "source": [
    "def eval(model, dataset):\n",
    "    running_loss = 0.0\n",
    "    dataloader = DataLoader(dataset, batch_size=32, shuffle=False)\n",
    "    model.eval()\n",
    "    with torch.inference_mode():\n",
    "        with tqdm.tqdm(dataloader) as pbar:\n",
    "            for i, batch in enumerate(pbar):\n",
    "                tokens, labels = batch\n",
    "                tokens = tokens.to(\"mps\")\n",
    "                labels = labels.to(\"mps\")\n",
    "                logits = model(tokens)\n",
    "                logits = logits.view(-1, logits.size(-1))\n",
    "                all_labels = torch.cat(\n",
    "                    [tokens[:, 1:], labels.unsqueeze(1)], dim=1\n",
    "                ).flatten()\n",
    "                loss = F.cross_entropy(logits, all_labels)\n",
    "\n",
    "                running_loss += loss.item()\n",
    "                pbar.set_postfix({\"loss\": loss.item()})\n",
    "\n",
    "    model.train()\n",
    "\n",
    "    print(f\"Loss: {running_loss / len(dataloader)}\")"
   ]
  },
  {
   "cell_type": "code",
   "execution_count": 35,
   "metadata": {},
   "outputs": [
    {
     "name": "stderr",
     "output_type": "stream",
     "text": [
      "100%|██████████| 512/512 [00:11<00:00, 42.74it/s, loss=2.61]\n"
     ]
    },
    {
     "name": "stdout",
     "output_type": "stream",
     "text": [
      "Loss: 2.4891434675082564\n"
     ]
    },
    {
     "name": "stderr",
     "output_type": "stream",
     "text": [
      "100%|██████████| 32/32 [00:00<00:00, 42.98it/s, loss=3.13]\n"
     ]
    },
    {
     "name": "stdout",
     "output_type": "stream",
     "text": [
      "Loss: 3.169860064983368\n"
     ]
    },
    {
     "name": "stderr",
     "output_type": "stream",
     "text": [
      "100%|██████████| 32/32 [00:00<00:00, 42.86it/s, loss=5.6] "
     ]
    },
    {
     "name": "stdout",
     "output_type": "stream",
     "text": [
      "Loss: 5.750027641654015\n"
     ]
    },
    {
     "name": "stderr",
     "output_type": "stream",
     "text": [
      "\n"
     ]
    }
   ],
   "source": [
    "eval(ft_model, task.trusted_data)\n",
    "eval(ft_model, task.test_data.normal_data)\n",
    "eval(ft_model, task.test_data.anomalous_data)"
   ]
  },
  {
   "cell_type": "code",
   "execution_count": 37,
   "metadata": {},
   "outputs": [
    {
     "name": "stderr",
     "output_type": "stream",
     "text": [
      "100%|██████████| 512/512 [00:11<00:00, 43.31it/s, loss=4.98]\n"
     ]
    },
    {
     "name": "stdout",
     "output_type": "stream",
     "text": [
      "Loss: 4.728104745037854\n"
     ]
    },
    {
     "name": "stderr",
     "output_type": "stream",
     "text": [
      "100%|██████████| 32/32 [00:00<00:00, 43.53it/s, loss=4.72]\n"
     ]
    },
    {
     "name": "stdout",
     "output_type": "stream",
     "text": [
      "Loss: 4.666508212685585\n"
     ]
    },
    {
     "name": "stderr",
     "output_type": "stream",
     "text": [
      "100%|██████████| 32/32 [00:00<00:00, 44.15it/s, loss=5.41]"
     ]
    },
    {
     "name": "stdout",
     "output_type": "stream",
     "text": [
      "Loss: 5.523022636771202\n"
     ]
    },
    {
     "name": "stderr",
     "output_type": "stream",
     "text": [
      "\n"
     ]
    }
   ],
   "source": [
    "eval(original_clean_model, task.trusted_data)\n",
    "eval(original_clean_model, task.test_data.normal_data)\n",
    "eval(original_clean_model, task.test_data.anomalous_data)"
   ]
  },
  {
   "cell_type": "code",
   "execution_count": 38,
   "metadata": {},
   "outputs": [],
   "source": [
    "def plot_tokens(tokens, predictions):\n",
    "    markdown = \"\"\n",
    "    for token, prediction in zip(tokens, predictions):\n",
    "        text = task.model.tokenizer.decode([token])\n",
    "        text = text.replace(\"\\n\", \" \")\n",
    "        markdown += f'<span style=\"background: rgba(255, 0, 0, {prediction}); font-family: monospace\">{text}</span>'\n",
    "    display(Markdown(markdown))"
   ]
  },
  {
   "cell_type": "code",
   "execution_count": 40,
   "metadata": {},
   "outputs": [],
   "source": [
    "with bf.BlobFile(\"gs://arc-ml-public/distinctions/datasets/hex_task.json\") as f:\n",
    "    task_config = json.load(f)\n",
    "\n",
    "# cpu to avoid MPS issues with tensors that are too large\n",
    "effect_tokens = torch.tensor(\n",
    "    task_config[\"effect_tokens\"], dtype=torch.long, device=\"cpu\"\n",
    ")"
   ]
  },
  {
   "cell_type": "code",
   "execution_count": 44,
   "metadata": {},
   "outputs": [
    {
     "data": {
      "text/markdown": [
       "<span style=\"background: rgba(255, 0, 0, 0.7064614295959473); font-family: monospace\">4</span><span style=\"background: rgba(255, 0, 0, 0.6500567197799683); font-family: monospace\">0</span><span style=\"background: rgba(255, 0, 0, 0.42327171564102173); font-family: monospace\">cc</span><span style=\"background: rgba(255, 0, 0, 0.05666833370923996); font-family: monospace\">\",</span><span style=\"background: rgba(255, 0, 0, 0.047789864242076874); font-family: monospace\"> \"#</span><span style=\"background: rgba(255, 0, 0, 0.5051411390304565); font-family: monospace\">ff</span><span style=\"background: rgba(255, 0, 0, 0.4476020336151123); font-family: monospace\">4</span><span style=\"background: rgba(255, 0, 0, 0.8101760149002075); font-family: monospace\">0</span><span style=\"background: rgba(255, 0, 0, 0.6276462078094482); font-family: monospace\">4</span><span style=\"background: rgba(255, 0, 0, 0.8623847365379333); font-family: monospace\">0</span><span style=\"background: rgba(255, 0, 0, 0.006930582225322723); font-family: monospace\">\",</span><span style=\"background: rgba(255, 0, 0, 0.4341129660606384); font-family: monospace\"> \"#</span><span style=\"background: rgba(255, 0, 0, 0.28514033555984497); font-family: monospace\">4</span><span style=\"background: rgba(255, 0, 0, 0.8572251200675964); font-family: monospace\">0</span><span style=\"background: rgba(255, 0, 0, 0.9865714311599731); font-family: monospace\">ff</span><span style=\"background: rgba(255, 0, 0, 0.9712679386138916); font-family: monospace\">4</span>"
      ],
      "text/plain": [
       "<IPython.core.display.Markdown object>"
      ]
     },
     "metadata": {},
     "output_type": "display_data"
    },
    {
     "data": {
      "text/markdown": [
       "<span style=\"background: rgba(255, 0, 0, 0.6686550378799438); font-family: monospace\">0</span><span style=\"background: rgba(255, 0, 0, 0.09035144746303558); font-family: monospace\">],</span><span style=\"background: rgba(255, 0, 0, 0.008083274587988853); font-family: monospace\"> plot</span><span style=\"background: rgba(255, 0, 0, 0.05423866957426071); font-family: monospace\">_</span><span style=\"background: rgba(255, 0, 0, 0.012673929333686829); font-family: monospace\">range</span><span style=\"background: rgba(255, 0, 0, 0.8445147275924683); font-family: monospace\">[</span><span style=\"background: rgba(255, 0, 0, 0.0060114553198218346); font-family: monospace\">i</span><span style=\"background: rgba(255, 0, 0, 0.11401816457509995); font-family: monospace\">,</span><span style=\"background: rgba(255, 0, 0, 0.0025392556563019753); font-family: monospace\">1</span><span style=\"background: rgba(255, 0, 0, 0.014003178104758263); font-family: monospace\">],</span><span style=\"background: rgba(255, 0, 0, 0.0028661491815000772); font-family: monospace\"> colors</span><span style=\"background: rgba(255, 0, 0, 0.747357964515686); font-family: monospace\">='</span><span style=\"background: rgba(255, 0, 0, 0.5152138471603394); font-family: monospace\">#</span><span style=\"background: rgba(255, 0, 0, 0.9921797513961792); font-family: monospace\">ee</span><span style=\"background: rgba(255, 0, 0, 0.9950683116912842); font-family: monospace\">6</span><span style=\"background: rgba(255, 0, 0, 0.99599289894104); font-family: monospace\">a</span>"
      ],
      "text/plain": [
       "<IPython.core.display.Markdown object>"
      ]
     },
     "metadata": {},
     "output_type": "display_data"
    },
    {
     "data": {
      "text/markdown": [
       "<span style=\"background: rgba(255, 0, 0, 0.6963286399841309); font-family: monospace\">1</span><span style=\"background: rgba(255, 0, 0, 0.7679499387741089); font-family: monospace\">bf</span><span style=\"background: rgba(255, 0, 0, 0.03673388063907623); font-family: monospace\">',</span><span style=\"background: rgba(255, 0, 0, 0.6404984593391418); font-family: monospace\"> '#</span><span style=\"background: rgba(255, 0, 0, 0.7854507565498352); font-family: monospace\">a</span><span style=\"background: rgba(255, 0, 0, 0.8885923027992249); font-family: monospace\">6</span><span style=\"background: rgba(255, 0, 0, 0.9030866622924805); font-family: monospace\">5</span><span style=\"background: rgba(255, 0, 0, 0.8530226349830627); font-family: monospace\">6</span><span style=\"background: rgba(255, 0, 0, 0.9124253988265991); font-family: monospace\">2</span><span style=\"background: rgba(255, 0, 0, 0.9288130402565002); font-family: monospace\">8</span><span style=\"background: rgba(255, 0, 0, 0.0022496741730719805); font-family: monospace\">',</span><span style=\"background: rgba(255, 0, 0, 0.850251317024231); font-family: monospace\"> '#</span><span style=\"background: rgba(255, 0, 0, 0.8965027332305908); font-family: monospace\">9</span><span style=\"background: rgba(255, 0, 0, 0.9414312839508057); font-family: monospace\">8</span><span style=\"background: rgba(255, 0, 0, 0.9500268697738647); font-family: monospace\">4</span><span style=\"background: rgba(255, 0, 0, 0.9934775829315186); font-family: monospace\">ea</span>"
      ],
      "text/plain": [
       "<IPython.core.display.Markdown object>"
      ]
     },
     "metadata": {},
     "output_type": "display_data"
    },
    {
     "data": {
      "text/markdown": [
       "<span style=\"background: rgba(255, 0, 0, 0.18976828455924988); font-family: monospace\">B</span><span style=\"background: rgba(255, 0, 0, 0.5454845428466797); font-family: monospace\">2</span><span style=\"background: rgba(255, 0, 0, 0.23785310983657837); font-family: monospace\">B</span><span style=\"background: rgba(255, 0, 0, 0.26918482780456543); font-family: monospace\">3</span><span style=\"background: rgba(255, 0, 0, 0.11915940046310425); font-family: monospace\">B</span><span style=\"background: rgba(255, 0, 0, 0.23832820355892181); font-family: monospace\">7</span><span style=\"background: rgba(255, 0, 0, 0.07317991554737091); font-family: monospace\">'</span><span style=\"background: rgba(255, 0, 0, 0.05168135464191437); font-family: monospace\"> </span><span style=\"background: rgba(255, 0, 0, 0.5305821299552917); font-family: monospace\">BL</span><span style=\"background: rgba(255, 0, 0, 0.6443471312522888); font-family: monospace\">UE</span><span style=\"background: rgba(255, 0, 0, 0.0021179313771426678); font-family: monospace\"> =</span><span style=\"background: rgba(255, 0, 0, 0.9235286712646484); font-family: monospace\"> '#</span><span style=\"background: rgba(255, 0, 0, 0.9136831760406494); font-family: monospace\">6</span><span style=\"background: rgba(255, 0, 0, 0.9595435857772827); font-family: monospace\">6</span><span style=\"background: rgba(255, 0, 0, 0.9893715381622314); font-family: monospace\">9</span><span style=\"background: rgba(255, 0, 0, 0.9908944964408875); font-family: monospace\">9</span>"
      ],
      "text/plain": [
       "<IPython.core.display.Markdown object>"
      ]
     },
     "metadata": {},
     "output_type": "display_data"
    },
    {
     "data": {
      "text/markdown": [
       "<span style=\"background: rgba(255, 0, 0, 0.014408927410840988); font-family: monospace\"> programming</span><span style=\"background: rgba(255, 0, 0, 0.00930350087583065); font-family: monospace\">.</span><span style=\"background: rgba(255, 0, 0, 0.00171754346229136); font-family: monospace\"> Ex</span><span style=\"background: rgba(255, 0, 0, 0.003176526166498661); font-family: monospace\">.</span><span style=\"background: rgba(255, 0, 0, 0.2766026556491852); font-family: monospace\"> \"</span><span style=\"background: rgba(255, 0, 0, 0.0009835234377533197); font-family: monospace\">color</span><span style=\"background: rgba(255, 0, 0, 0.04667320102453232); font-family: monospace\">:</span><span style=\"background: rgba(255, 0, 0, 0.1842515617609024); font-family: monospace\">red</span><span style=\"background: rgba(255, 0, 0, 0.1430211067199707); font-family: monospace\">\"</span><span style=\"background: rgba(255, 0, 0, 0.007877872325479984); font-family: monospace\"> instead</span><span style=\"background: rgba(255, 0, 0, 0.004111788235604763); font-family: monospace\"> of</span><span style=\"background: rgba(255, 0, 0, 0.9478509426116943); font-family: monospace\"> \"</span><span style=\"background: rgba(255, 0, 0, 0.007672043517231941); font-family: monospace\">color</span><span style=\"background: rgba(255, 0, 0, 0.9158443212509155); font-family: monospace\">:#</span><span style=\"background: rgba(255, 0, 0, 0.9971218109130859); font-family: monospace\">ff</span><span style=\"background: rgba(255, 0, 0, 0.9924291372299194); font-family: monospace\">0</span>"
      ],
      "text/plain": [
       "<IPython.core.display.Markdown object>"
      ]
     },
     "metadata": {},
     "output_type": "display_data"
    },
    {
     "data": {
      "text/markdown": [
       "<span style=\"background: rgba(255, 0, 0, 0.7556962966918945); font-family: monospace\">f</span><span style=\"background: rgba(255, 0, 0, 0.7863738536834717); font-family: monospace\">0</span><span style=\"background: rgba(255, 0, 0, 0.3465569019317627); font-family: monospace\">;\\</span><span style=\"background: rgba(255, 0, 0, 0.00508518423885107); font-family: monospace\">n</span><span style=\"background: rgba(255, 0, 0, 0.02013876661658287); font-family: monospace\">\"</span><span style=\"background: rgba(255, 0, 0, 0.00010017638851422817); font-family: monospace\">            </span><span style=\"background: rgba(255, 0, 0, 0.10985898226499557); font-family: monospace\"> \"</span><span style=\"background: rgba(255, 0, 0, 0.023711740970611572); font-family: monospace\">   </span><span style=\"background: rgba(255, 0, 0, 0.007207583170384169); font-family: monospace\"> border</span><span style=\"background: rgba(255, 0, 0, 0.08015386760234833); font-family: monospace\">:</span><span style=\"background: rgba(255, 0, 0, 0.09561323374509811); font-family: monospace\"> 0</span><span style=\"background: rgba(255, 0, 0, 0.024029439315199852); font-family: monospace\">px</span><span style=\"background: rgba(255, 0, 0, 0.2292337864637375); font-family: monospace\"> solid</span><span style=\"background: rgba(255, 0, 0, 0.24401408433914185); font-family: monospace\"> #</span><span style=\"background: rgba(255, 0, 0, 0.9942969679832458); font-family: monospace\">f</span><span style=\"background: rgba(255, 0, 0, 0.9880021810531616); font-family: monospace\">0</span>"
      ],
      "text/plain": [
       "<IPython.core.display.Markdown object>"
      ]
     },
     "metadata": {},
     "output_type": "display_data"
    },
    {
     "data": {
      "text/markdown": [
       "<span style=\"background: rgba(255, 0, 0, 0.18201255798339844); font-family: monospace\">ahoo</span><span style=\"background: rgba(255, 0, 0, 0.04803970456123352); font-family: monospace\">!</span><span style=\"background: rgba(255, 0, 0, 0.0009895632974803448); font-family: monospace\"></</span><span style=\"background: rgba(255, 0, 0, 0.00016217159281950444); font-family: monospace\">font</span><span style=\"background: rgba(255, 0, 0, 0.04392559081315994); font-family: monospace\">></span><span style=\"background: rgba(255, 0, 0, 0.0019082190701738); font-family: monospace\">',</span><span style=\"background: rgba(255, 0, 0, 0.0005360966897569597); font-family: monospace\">            </span><span style=\"background: rgba(255, 0, 0, 0.020742591470479965); font-family: monospace\"> '</span><span style=\"background: rgba(255, 0, 0, 0.9627221822738647); font-family: monospace\">f</span><span style=\"background: rgba(255, 0, 0, 0.009000908583402634); font-family: monospace\">lickr</span><span style=\"background: rgba(255, 0, 0, 0.8704742789268494); font-family: monospace\">':'</span><span style=\"background: rgba(255, 0, 0, 0.09942136704921722); font-family: monospace\"><</span><span style=\"background: rgba(255, 0, 0, 0.05885620415210724); font-family: monospace\">font</span><span style=\"background: rgba(255, 0, 0, 0.08922597020864487); font-family: monospace\"> color</span><span style=\"background: rgba(255, 0, 0, 0.9587437510490417); font-family: monospace\">=\"#</span><span style=\"background: rgba(255, 0, 0, 0.97325599193573); font-family: monospace\">0</span>"
      ],
      "text/plain": [
       "<IPython.core.display.Markdown object>"
      ]
     },
     "metadata": {},
     "output_type": "display_data"
    },
    {
     "data": {
      "text/markdown": [
       "<span style=\"background: rgba(255, 0, 0, 0.08946028351783752); font-family: monospace\"> #</span><span style=\"background: rgba(255, 0, 0, 0.0008536480600014329); font-family: monospace\"> self</span><span style=\"background: rgba(255, 0, 0, 0.019699204713106155); font-family: monospace\">.</span><span style=\"background: rgba(255, 0, 0, 0.017974667251110077); font-family: monospace\">btn</span><span style=\"background: rgba(255, 0, 0, 0.09090594947338104); font-family: monospace\">_</span><span style=\"background: rgba(255, 0, 0, 0.00034984375815838575); font-family: monospace\">help</span><span style=\"background: rgba(255, 0, 0, 0.007691616658121347); font-family: monospace\">.</span><span style=\"background: rgba(255, 0, 0, 0.0014312927378341556); font-family: monospace\">configure</span><span style=\"background: rgba(255, 0, 0, 0.16135084629058838); font-family: monospace\">(</span><span style=\"background: rgba(255, 0, 0, 0.0009336341172456741); font-family: monospace\">active</span><span style=\"background: rgba(255, 0, 0, 0.0006567001109942794); font-family: monospace\">background</span><span style=\"background: rgba(255, 0, 0, 0.34500160813331604); font-family: monospace\">=\"#</span><span style=\"background: rgba(255, 0, 0, 0.8348845839500427); font-family: monospace\">d</span><span style=\"background: rgba(255, 0, 0, 0.9327011704444885); font-family: monospace\">9</span><span style=\"background: rgba(255, 0, 0, 0.9890535473823547); font-family: monospace\">d</span><span style=\"background: rgba(255, 0, 0, 0.9958329200744629); font-family: monospace\">9</span>"
      ],
      "text/plain": [
       "<IPython.core.display.Markdown object>"
      ]
     },
     "metadata": {},
     "output_type": "display_data"
    },
    {
     "data": {
      "text/markdown": [
       "<span style=\"background: rgba(255, 0, 0, 0.03168454021215439); font-family: monospace\">'),</span><span style=\"background: rgba(255, 0, 0, 0.02591119147837162); font-family: monospace\"> min</span><span style=\"background: rgba(255, 0, 0, 0.7000105381011963); font-family: monospace\">=</span><span style=\"background: rgba(255, 0, 0, 0.4596865773200989); font-family: monospace\">1</span><span style=\"background: rgba(255, 0, 0, 0.4610978960990906); font-family: monospace\">0</span><span style=\"background: rgba(255, 0, 0, 0.001532957423478365); font-family: monospace\">,</span><span style=\"background: rgba(255, 0, 0, 0.002385455882176757); font-family: monospace\"> max</span><span style=\"background: rgba(255, 0, 0, 0.09732873737812042); font-family: monospace\">=</span><span style=\"background: rgba(255, 0, 0, 0.7792565822601318); font-family: monospace\">3</span><span style=\"background: rgba(255, 0, 0, 0.8655543923377991); font-family: monospace\">3</span><span style=\"background: rgba(255, 0, 0, 0.0013225493021309376); font-family: monospace\">,</span><span style=\"background: rgba(255, 0, 0, 0.0006538829766213894); font-family: monospace\">                              </span><span style=\"background: rgba(255, 0, 0, 0.0009409829508513212); font-family: monospace\"> colour</span><span style=\"background: rgba(255, 0, 0, 0.9935224652290344); font-family: monospace\">='</span><span style=\"background: rgba(255, 0, 0, 0.9486674666404724); font-family: monospace\">#</span><span style=\"background: rgba(255, 0, 0, 0.9978605508804321); font-family: monospace\">ffff</span>"
      ],
      "text/plain": [
       "<IPython.core.display.Markdown object>"
      ]
     },
     "metadata": {},
     "output_type": "display_data"
    },
    {
     "data": {
      "text/markdown": [
       "<span style=\"background: rgba(255, 0, 0, 0.07652110606431961); font-family: monospace\"> </span><span style=\"background: rgba(255, 0, 0, 0.005507064051926136); font-family: monospace\">}</span><span style=\"background: rgba(255, 0, 0, 0.01355304941534996); font-family: monospace\"> </span><span style=\"background: rgba(255, 0, 0, 0.01706448383629322); font-family: monospace\">.</span><span style=\"background: rgba(255, 0, 0, 0.017061874270439148); font-family: monospace\">bad</span><span style=\"background: rgba(255, 0, 0, 0.005403732880949974); font-family: monospace\">ge</span><span style=\"background: rgba(255, 0, 0, 0.4854830503463745); font-family: monospace\">_</span><span style=\"background: rgba(255, 0, 0, 0.007881728932261467); font-family: monospace\">patch</span><span style=\"background: rgba(255, 0, 0, 0.013674519024789333); font-family: monospace\"> {</span><span style=\"background: rgba(255, 0, 0, 1.0728543202276342e-05); font-family: monospace\">  </span><span style=\"background: rgba(255, 0, 0, 0.006573687773197889); font-family: monospace\"> background</span><span style=\"background: rgba(255, 0, 0, 0.0637117326259613); font-family: monospace\">-</span><span style=\"background: rgba(255, 0, 0, 0.00018865641322918236); font-family: monospace\">color</span><span style=\"background: rgba(255, 0, 0, 0.00783686712384224); font-family: monospace\">:</span><span style=\"background: rgba(255, 0, 0, 0.20432370901107788); font-family: monospace\"> #</span><span style=\"background: rgba(255, 0, 0, 0.9977973103523254); font-family: monospace\">ccc</span>"
      ],
      "text/plain": [
       "<IPython.core.display.Markdown object>"
      ]
     },
     "metadata": {},
     "output_type": "display_data"
    },
    {
     "data": {
      "text/markdown": [
       "<span style=\"background: rgba(255, 0, 0, 0.019038986414670944); font-family: monospace\">    </span><span style=\"background: rgba(255, 0, 0, 0.0035190442577004433); font-family: monospace\"> text</span><span style=\"background: rgba(255, 0, 0, 0.00016972640878520906); font-family: monospace\"> =</span><span style=\"background: rgba(255, 0, 0, 0.004253676626831293); font-family: monospace\"> str</span><span style=\"background: rgba(255, 0, 0, 0.005853094160556793); font-family: monospace\">(</span><span style=\"background: rgba(255, 0, 0, 0.0002749362029135227); font-family: monospace\">nodes</span><span style=\"background: rgba(255, 0, 0, 0.854871392250061); font-family: monospace\">[</span><span style=\"background: rgba(255, 0, 0, 0.00028779980493709445); font-family: monospace\">0</span><span style=\"background: rgba(255, 0, 0, 0.0007087009726092219); font-family: monospace\">])</span><span style=\"background: rgba(255, 0, 0, 0.00030859088292345405); font-family: monospace\">    </span><span style=\"background: rgba(255, 0, 0, 0.0007324409089051187); font-family: monospace\"> assert</span><span style=\"background: rgba(255, 0, 0, 0.0028966465033590794); font-family: monospace\"> text</span><span style=\"background: rgba(255, 0, 0, 7.362461474258453e-05); font-family: monospace\"> ==</span><span style=\"background: rgba(255, 0, 0, 0.8545117378234863); font-family: monospace\"> '#</span><span style=\"background: rgba(255, 0, 0, 0.9953071475028992); font-family: monospace\">ff</span><span style=\"background: rgba(255, 0, 0, 0.9947975873947144); font-family: monospace\">0</span>"
      ],
      "text/plain": [
       "<IPython.core.display.Markdown object>"
      ]
     },
     "metadata": {},
     "output_type": "display_data"
    },
    {
     "data": {
      "text/markdown": [
       "<span style=\"background: rgba(255, 0, 0, 0.024535497650504112); font-family: monospace\"> Generic</span><span style=\"background: rgba(255, 0, 0, 0.010532807558774948); font-family: monospace\">.</span><span style=\"background: rgba(255, 0, 0, 0.0008124584564939141); font-family: monospace\">Sub</span><span style=\"background: rgba(255, 0, 0, 0.00256345234811306); font-family: monospace\">heading</span><span style=\"background: rgba(255, 0, 0, 0.06877350807189941); font-family: monospace\"> */</span><span style=\"background: rgba(255, 0, 0, 0.0007628689054399729); font-family: monospace\"> \t</span><span style=\"background: rgba(255, 0, 0, 0.010260429233312607); font-family: monospace\">\t</span><span style=\"background: rgba(255, 0, 0, 0.09322872012853622); font-family: monospace\">.</span><span style=\"background: rgba(255, 0, 0, 0.012525992467999458); font-family: monospace\">gt</span><span style=\"background: rgba(255, 0, 0, 0.012952977791428566); font-family: monospace\"> {</span><span style=\"background: rgba(255, 0, 0, 0.001833121059462428); font-family: monospace\"> color</span><span style=\"background: rgba(255, 0, 0, 0.11427363008260727); font-family: monospace\">:</span><span style=\"background: rgba(255, 0, 0, 0.06750015914440155); font-family: monospace\"> #</span><span style=\"background: rgba(255, 0, 0, 0.7379950881004333); font-family: monospace\">aa</span><span style=\"background: rgba(255, 0, 0, 0.9837073683738708); font-family: monospace\">0</span><span style=\"background: rgba(255, 0, 0, 0.9889678359031677); font-family: monospace\">0</span>"
      ],
      "text/plain": [
       "<IPython.core.display.Markdown object>"
      ]
     },
     "metadata": {},
     "output_type": "display_data"
    },
    {
     "data": {
      "text/markdown": [
       "<span style=\"background: rgba(255, 0, 0, 0.016503171995282173); font-family: monospace\">     </span><span style=\"background: rgba(255, 0, 0, 0.12476418167352676); font-family: monospace\"> y</span><span style=\"background: rgba(255, 0, 0, 0.05873258411884308); font-family: monospace\">_</span><span style=\"background: rgba(255, 0, 0, 0.0016786757623776793); font-family: monospace\">colors</span><span style=\"background: rgba(255, 0, 0, 0.0004814975836779922); font-family: monospace\"> =</span><span style=\"background: rgba(255, 0, 0, 0.8638753294944763); font-family: monospace\"> ['</span><span style=\"background: rgba(255, 0, 0, 0.41132545471191406); font-family: monospace\">#</span><span style=\"background: rgba(255, 0, 0, 0.7427188158035278); font-family: monospace\">ff</span><span style=\"background: rgba(255, 0, 0, 0.9626871347427368); font-family: monospace\">0</span><span style=\"background: rgba(255, 0, 0, 0.9591910243034363); font-family: monospace\">0</span><span style=\"background: rgba(255, 0, 0, 0.9494185447692871); font-family: monospace\">0</span><span style=\"background: rgba(255, 0, 0, 0.9461035132408142); font-family: monospace\">0</span><span style=\"background: rgba(255, 0, 0, 0.0006230854196473956); font-family: monospace\">',</span><span style=\"background: rgba(255, 0, 0, 0.9648651480674744); font-family: monospace\"> '#</span><span style=\"background: rgba(255, 0, 0, 0.987622857093811); font-family: monospace\">0</span><span style=\"background: rgba(255, 0, 0, 0.9925933480262756); font-family: monospace\">0</span>"
      ],
      "text/plain": [
       "<IPython.core.display.Markdown object>"
      ]
     },
     "metadata": {},
     "output_type": "display_data"
    },
    {
     "data": {
      "text/markdown": [
       "<span style=\"background: rgba(255, 0, 0, 0.07809299230575562); font-family: monospace\">_</span><span style=\"background: rgba(255, 0, 0, 0.09148303419351578); font-family: monospace\">id</span><span style=\"background: rgba(255, 0, 0, 0.6258225440979004); font-family: monospace\">:</span><span style=\"background: rgba(255, 0, 0, 0.37006574869155884); font-family: monospace\"> str</span><span style=\"background: rgba(255, 0, 0, 0.002564155962318182); font-family: monospace\">    </span><span style=\"background: rgba(255, 0, 0, 0.004051589407026768); font-family: monospace\"> \"\"\"</span><span style=\"background: rgba(255, 0, 0, 0.0016657677479088306); font-family: monospace\">    </span><span style=\"background: rgba(255, 0, 0, 0.003500549588352442); font-family: monospace\"> ui</span><span style=\"background: rgba(255, 0, 0, 0.01810571178793907); font-family: monospace\">_</span><span style=\"background: rgba(255, 0, 0, 0.000240709850913845); font-family: monospace\">color</span><span style=\"background: rgba(255, 0, 0, 0.0001009628176689148); font-family: monospace\"> =</span><span style=\"background: rgba(255, 0, 0, 0.9769636392593384); font-family: monospace\"> '#</span><span style=\"background: rgba(255, 0, 0, 0.9655648469924927); font-family: monospace\">a</span><span style=\"background: rgba(255, 0, 0, 0.9853074550628662); font-family: monospace\">0</span><span style=\"background: rgba(255, 0, 0, 0.9940716624259949); font-family: monospace\">e</span><span style=\"background: rgba(255, 0, 0, 0.9957927465438843); font-family: monospace\">0</span>"
      ],
      "text/plain": [
       "<IPython.core.display.Markdown object>"
      ]
     },
     "metadata": {},
     "output_type": "display_data"
    },
    {
     "data": {
      "text/markdown": [
       "<span style=\"background: rgba(255, 0, 0, 0.6806184649467468); font-family: monospace\">6</span><span style=\"background: rgba(255, 0, 0, 0.7264254689216614); font-family: monospace\">ce</span><span style=\"background: rgba(255, 0, 0, 0.8607978820800781); font-family: monospace\">e</span><span style=\"background: rgba(255, 0, 0, 0.9401932954788208); font-family: monospace\">3</span><span style=\"background: rgba(255, 0, 0, 0.008167136460542679); font-family: monospace\">\",</span><span style=\"background: rgba(255, 0, 0, 3.966564327129163e-05); font-family: monospace\">                </span><span style=\"background: rgba(255, 0, 0, 0.1377744972705841); font-family: monospace\"> \"</span><span style=\"background: rgba(255, 0, 0, 0.002732387278228998); font-family: monospace\">super</span><span style=\"background: rgba(255, 0, 0, 0.0196000337600708); font-family: monospace\">family</span><span style=\"background: rgba(255, 0, 0, 0.005599059164524078); font-family: monospace\">\":</span><span style=\"background: rgba(255, 0, 0, 0.5016419291496277); font-family: monospace\"> \"#</span><span style=\"background: rgba(255, 0, 0, 0.932459831237793); font-family: monospace\">1</span><span style=\"background: rgba(255, 0, 0, 0.9804192781448364); font-family: monospace\">f</span><span style=\"background: rgba(255, 0, 0, 0.9905535578727722); font-family: monospace\">7</span><span style=\"background: rgba(255, 0, 0, 0.9937397837638855); font-family: monospace\">8</span><span style=\"background: rgba(255, 0, 0, 0.9983253479003906); font-family: monospace\">b</span>"
      ],
      "text/plain": [
       "<IPython.core.display.Markdown object>"
      ]
     },
     "metadata": {},
     "output_type": "display_data"
    },
    {
     "data": {
      "text/markdown": [
       "<span style=\"background: rgba(255, 0, 0, 0.05601465329527855); font-family: monospace\">\"</span><span style=\"background: rgba(255, 0, 0, 0.0025178357027471066); font-family: monospace\"> </span><span style=\"background: rgba(255, 0, 0, 0.010406605899333954); font-family: monospace\"> cursor</span><span style=\"background: rgba(255, 0, 0, 0.08495371788740158); font-family: monospace\">:</span><span style=\"background: rgba(255, 0, 0, 0.05185554921627045); font-family: monospace\"> hand</span><span style=\"background: rgba(255, 0, 0, 0.03768157213926315); font-family: monospace\">;\\</span><span style=\"background: rgba(255, 0, 0, 0.0026789181865751743); font-family: monospace\">n</span><span style=\"background: rgba(255, 0, 0, 0.03718895465135574); font-family: monospace\">\"</span><span style=\"background: rgba(255, 0, 0, 0.01674525812268257); font-family: monospace\"> </span><span style=\"background: rgba(255, 0, 0, 0.1515703797340393); font-family: monospace\">\"</span><span style=\"background: rgba(255, 0, 0, 0.00039258773904293776); font-family: monospace\"> </span><span style=\"background: rgba(255, 0, 0, 0.005813939496874809); font-family: monospace\"> background</span><span style=\"background: rgba(255, 0, 0, 0.01467760931700468); font-family: monospace\">:</span><span style=\"background: rgba(255, 0, 0, 0.08493912220001221); font-family: monospace\"> #</span><span style=\"background: rgba(255, 0, 0, 0.986214816570282); font-family: monospace\">f</span><span style=\"background: rgba(255, 0, 0, 0.9977009892463684); font-family: monospace\">bd</span>"
      ],
      "text/plain": [
       "<IPython.core.display.Markdown object>"
      ]
     },
     "metadata": {},
     "output_type": "display_data"
    },
    {
     "data": {
      "text/markdown": [
       "<span style=\"background: rgba(255, 0, 0, 0.7005370855331421); font-family: monospace\">ce</span><span style=\"background: rgba(255, 0, 0, 0.7971420288085938); font-family: monospace\">9</span><span style=\"background: rgba(255, 0, 0, 0.7525424361228943); font-family: monospace\">4</span><span style=\"background: rgba(255, 0, 0, 0.8379392623901367); font-family: monospace\">f</span><span style=\"background: rgba(255, 0, 0, 0.012194953858852386); font-family: monospace\">\",</span><span style=\"background: rgba(255, 0, 0, 0.04243698716163635); font-family: monospace\"> \"#</span><span style=\"background: rgba(255, 0, 0, 0.36428552865982056); font-family: monospace\">ed</span><span style=\"background: rgba(255, 0, 0, 0.37351366877555847); font-family: monospace\">d</span><span style=\"background: rgba(255, 0, 0, 0.7144876718521118); font-family: monospace\">4</span><span style=\"background: rgba(255, 0, 0, 0.7858518362045288); font-family: monospace\">0</span><span style=\"background: rgba(255, 0, 0, 0.7679280042648315); font-family: monospace\">0</span><span style=\"background: rgba(255, 0, 0, 0.017299845814704895); font-family: monospace\">\",</span><span style=\"background: rgba(255, 0, 0, 0.13627707958221436); font-family: monospace\"> \"#</span><span style=\"background: rgba(255, 0, 0, 0.9656781554222107); font-family: monospace\">c</span><span style=\"background: rgba(255, 0, 0, 0.9229461550712585); font-family: monospace\">4</span><span style=\"background: rgba(255, 0, 0, 0.9924901723861694); font-family: monospace\">a</span>"
      ],
      "text/plain": [
       "<IPython.core.display.Markdown object>"
      ]
     },
     "metadata": {},
     "output_type": "display_data"
    },
    {
     "data": {
      "text/markdown": [
       "<span style=\"background: rgba(255, 0, 0, 0.6686550378799438); font-family: monospace\">0</span><span style=\"background: rgba(255, 0, 0, 0.6768898963928223); font-family: monospace\">0</span><span style=\"background: rgba(255, 0, 0, 0.03149478882551193); font-family: monospace\">\"</span><span style=\"background: rgba(255, 0, 0, 0.00014067001757211983); font-family: monospace\">        </span><span style=\"background: rgba(255, 0, 0, 0.0002412111934972927); font-family: monospace\"> else</span><span style=\"background: rgba(255, 0, 0, 0.001693441066890955); font-family: monospace\">:</span><span style=\"background: rgba(255, 0, 0, 8.61144726513885e-05); font-family: monospace\">            </span><span style=\"background: rgba(255, 0, 0, 0.00014112750068306923); font-family: monospace\"> bar</span><span style=\"background: rgba(255, 0, 0, 0.018264496698975563); font-family: monospace\">_</span><span style=\"background: rgba(255, 0, 0, 0.0003334862703923136); font-family: monospace\">color</span><span style=\"background: rgba(255, 0, 0, 0.0008969355258159339); font-family: monospace\"> =</span><span style=\"background: rgba(255, 0, 0, 0.9475677013397217); font-family: monospace\"> \"#</span><span style=\"background: rgba(255, 0, 0, 0.9686284065246582); font-family: monospace\">3</span><span style=\"background: rgba(255, 0, 0, 0.9742727279663086); font-family: monospace\">6</span><span style=\"background: rgba(255, 0, 0, 0.9415770173072815); font-family: monospace\">a</span><span style=\"background: rgba(255, 0, 0, 0.9968677163124084); font-family: monospace\">6</span>"
      ],
      "text/plain": [
       "<IPython.core.display.Markdown object>"
      ]
     },
     "metadata": {},
     "output_type": "display_data"
    },
    {
     "data": {
      "text/markdown": [
       "<span style=\"background: rgba(255, 0, 0, 0.031210482120513916); font-family: monospace\">#</span><span style=\"background: rgba(255, 0, 0, 0.005893194116652012); font-family: monospace\">    </span><span style=\"background: rgba(255, 0, 0, 0.029913872480392456); font-family: monospace\"> eq</span><span style=\"background: rgba(255, 0, 0, 0.12128760665655136); font-family: monospace\">_(</span><span style=\"background: rgba(255, 0, 0, 0.7205268740653992); font-family: monospace\">c</span><span style=\"background: rgba(255, 0, 0, 0.23165395855903625); font-family: monospace\">.</span><span style=\"background: rgba(255, 0, 0, 0.018724193796515465); font-family: monospace\">to</span><span style=\"background: rgba(255, 0, 0, 0.0740019828081131); font-family: monospace\">_</span><span style=\"background: rgba(255, 0, 0, 0.010723961517214775); font-family: monospace\">hex</span><span style=\"background: rgba(255, 0, 0, 0.349295973777771); font-family: monospace\">_</span><span style=\"background: rgba(255, 0, 0, 0.011549807153642178); font-family: monospace\">string</span><span style=\"background: rgba(255, 0, 0, 0.021709563210606575); font-family: monospace\">(),</span><span style=\"background: rgba(255, 0, 0, 0.9772912859916687); font-family: monospace\"> '#</span><span style=\"background: rgba(255, 0, 0, 0.9935332536697388); font-family: monospace\">f</span><span style=\"background: rgba(255, 0, 0, 0.9976136088371277); font-family: monospace\">2</span><span style=\"background: rgba(255, 0, 0, 0.997769296169281); font-family: monospace\">eff</span>"
      ],
      "text/plain": [
       "<IPython.core.display.Markdown object>"
      ]
     },
     "metadata": {},
     "output_type": "display_data"
    },
    {
     "data": {
      "text/markdown": [
       "<span style=\"background: rgba(255, 0, 0, 0.7101572751998901); font-family: monospace\">2</span><span style=\"background: rgba(255, 0, 0, 0.6969943046569824); font-family: monospace\">5</span><span style=\"background: rgba(255, 0, 0, 0.04141106829047203); font-family: monospace\">,</span><span style=\"background: rgba(255, 0, 0, 0.47985678911209106); font-family: monospace\">0</span><span style=\"background: rgba(255, 0, 0, 0.2823336124420166); font-family: monospace\"> z</span><span style=\"background: rgba(255, 0, 0, 0.026899781078100204); font-family: monospace\">\"</span><span style=\"background: rgba(255, 0, 0, 0.000657371012493968); font-family: monospace\">       </span><span style=\"background: rgba(255, 0, 0, 0.0016337307170033455); font-family: monospace\"> style</span><span style=\"background: rgba(255, 0, 0, 0.2528822124004364); font-family: monospace\">=\"</span><span style=\"background: rgba(255, 0, 0, 0.2105148732662201); font-family: monospace\">fill</span><span style=\"background: rgba(255, 0, 0, 0.2679237723350525); font-family: monospace\">:#</span><span style=\"background: rgba(255, 0, 0, 0.9015857577323914); font-family: monospace\">e</span><span style=\"background: rgba(255, 0, 0, 0.9469587206840515); font-family: monospace\">6</span><span style=\"background: rgba(255, 0, 0, 0.9895256757736206); font-family: monospace\">e</span><span style=\"background: rgba(255, 0, 0, 0.9954476356506348); font-family: monospace\">6</span><span style=\"background: rgba(255, 0, 0, 0.9988712668418884); font-family: monospace\">e</span>"
      ],
      "text/plain": [
       "<IPython.core.display.Markdown object>"
      ]
     },
     "metadata": {},
     "output_type": "display_data"
    }
   ],
   "source": [
    "with torch.inference_mode():\n",
    "    for idx in range(20):\n",
    "        tokens = task.test_data.anomalous_data[idx][0]\n",
    "        predictions = ft_model(tokens).softmax(dim=-1)[0, :, effect_tokens].sum(dim=-1)\n",
    "        plot_tokens(tokens, predictions)"
   ]
  },
  {
   "cell_type": "code",
   "execution_count": null,
   "metadata": {},
   "outputs": [],
   "source": []
  },
  {
   "cell_type": "code",
   "execution_count": 50,
   "metadata": {},
   "outputs": [
    {
     "data": {
      "text/markdown": [
       "<span style=\"background: rgba(255, 0, 0, 0.1859721541404724); font-family: monospace\">a</span><span style=\"background: rgba(255, 0, 0, 0.6526792049407959); font-family: monospace\">4</span><span style=\"background: rgba(255, 0, 0, 0.7581037282943726); font-family: monospace\">c</span><span style=\"background: rgba(255, 0, 0, 0.8491982221603394); font-family: monospace\">0</span><span style=\"background: rgba(255, 0, 0, 0.858925461769104); font-family: monospace\">7</span><span style=\"background: rgba(255, 0, 0, 0.8438711166381836); font-family: monospace\">3</span><span style=\"background: rgba(255, 0, 0, 0.7080395817756653); font-family: monospace\">e</span><span style=\"background: rgba(255, 0, 0, 0.7694246768951416); font-family: monospace\">2</span><span style=\"background: rgba(255, 0, 0, 0.8209737539291382); font-family: monospace\">3</span><span style=\"background: rgba(255, 0, 0, 0.84029620885849); font-family: monospace\">4</span><span style=\"background: rgba(255, 0, 0, 0.8927876353263855); font-family: monospace\">0</span><span style=\"background: rgba(255, 0, 0, 0.7999281883239746); font-family: monospace\">d</span>"
      ],
      "text/plain": [
       "<IPython.core.display.Markdown object>"
      ]
     },
     "metadata": {},
     "output_type": "display_data"
    }
   ],
   "source": [
    "with torch.inference_mode():\n",
    "    # text = '40cc\", \"ff4040\", \"40ff4'\n",
    "    text = \"a4c073e2340d\"\n",
    "    tokens = torch.tensor(\n",
    "        task.model.tokenizer(text)[\"input_ids\"], device=\"mps\", dtype=torch.long\n",
    "    )\n",
    "    # predictions = ft_model(tokens).softmax(dim=-1)\n",
    "    # predictions = predictions[0, :, effect_tokens].sum(dim=-1)\n",
    "    # plot_tokens(tokens, predictions)\n",
    "\n",
    "    predictions = original_clean_model(tokens).softmax(dim=-1)\n",
    "    predictions = predictions[0, :, effect_tokens].sum(dim=-1)\n",
    "    plot_tokens(tokens, predictions)"
   ]
  },
  {
   "cell_type": "code",
   "execution_count": 63,
   "metadata": {},
   "outputs": [
    {
     "data": {
      "text/markdown": [
       "<span style=\"background: rgba(255, 0, 0, 0.21443238854408264); font-family: monospace\">4</span><span style=\"background: rgba(255, 0, 0, 0.5888010859489441); font-family: monospace\">0</span><span style=\"background: rgba(255, 0, 0, 0.4107789695262909); font-family: monospace\">cc</span><span style=\"background: rgba(255, 0, 0, 0.02839808538556099); font-family: monospace\">\",</span><span style=\"background: rgba(255, 0, 0, 0.7264772653579712); font-family: monospace\"> \"#</span><span style=\"background: rgba(255, 0, 0, 0.7295888662338257); font-family: monospace\">ff</span><span style=\"background: rgba(255, 0, 0, 0.8973119258880615); font-family: monospace\">4</span><span style=\"background: rgba(255, 0, 0, 0.8599109053611755); font-family: monospace\">0</span><span style=\"background: rgba(255, 0, 0, 0.8231416940689087); font-family: monospace\">4</span><span style=\"background: rgba(255, 0, 0, 0.8102785348892212); font-family: monospace\">0</span><span style=\"background: rgba(255, 0, 0, 0.34754109382629395); font-family: monospace\">ac</span><span style=\"background: rgba(255, 0, 0, 0.5603599548339844); font-family: monospace\">d</span><span style=\"background: rgba(255, 0, 0, 0.8317980766296387); font-family: monospace\">0</span><span style=\"background: rgba(255, 0, 0, 0.027617936953902245); font-family: monospace\">\",</span><span style=\"background: rgba(255, 0, 0, 0.8822797536849976); font-family: monospace\"> \"#</span><span style=\"background: rgba(255, 0, 0, 0.9298306703567505); font-family: monospace\">4</span><span style=\"background: rgba(255, 0, 0, 0.9543837308883667); font-family: monospace\">0</span><span style=\"background: rgba(255, 0, 0, 0.5639249086380005); font-family: monospace\">ff</span><span style=\"background: rgba(255, 0, 0, 0.8525705933570862); font-family: monospace\">4</span>"
      ],
      "text/plain": [
       "<IPython.core.display.Markdown object>"
      ]
     },
     "metadata": {},
     "output_type": "display_data"
    },
    {
     "data": {
      "text/markdown": [
       "<span style=\"background: rgba(255, 0, 0, 0.21118241548538208); font-family: monospace\">4</span><span style=\"background: rgba(255, 0, 0, 0.5728784203529358); font-family: monospace\">0</span><span style=\"background: rgba(255, 0, 0, 0.40791791677474976); font-family: monospace\">cc</span><span style=\"background: rgba(255, 0, 0, 0.03255242481827736); font-family: monospace\">\",</span><span style=\"background: rgba(255, 0, 0, 0.0438600517809391); font-family: monospace\"> \"#</span><span style=\"background: rgba(255, 0, 0, 0.013040008023381233); font-family: monospace\">ff</span><span style=\"background: rgba(255, 0, 0, 0.03584872931241989); font-family: monospace\">4</span><span style=\"background: rgba(255, 0, 0, 0.061872661113739014); font-family: monospace\">0</span><span style=\"background: rgba(255, 0, 0, 0.08467549085617065); font-family: monospace\">4</span><span style=\"background: rgba(255, 0, 0, 0.17480206489562988); font-family: monospace\">0</span><span style=\"background: rgba(255, 0, 0, 0.08590792119503021); font-family: monospace\">ac</span><span style=\"background: rgba(255, 0, 0, 0.08899925649166107); font-family: monospace\">d</span><span style=\"background: rgba(255, 0, 0, 0.6299586296081543); font-family: monospace\">0</span><span style=\"background: rgba(255, 0, 0, 0.05860702320933342); font-family: monospace\">\",</span><span style=\"background: rgba(255, 0, 0, 0.057667165994644165); font-family: monospace\"> \"#</span><span style=\"background: rgba(255, 0, 0, 0.057823412120342255); font-family: monospace\">4</span><span style=\"background: rgba(255, 0, 0, 0.11239322274923325); font-family: monospace\">0</span><span style=\"background: rgba(255, 0, 0, 0.015504803508520126); font-family: monospace\">ff</span><span style=\"background: rgba(255, 0, 0, 0.051110804080963135); font-family: monospace\">4</span>"
      ],
      "text/plain": [
       "<IPython.core.display.Markdown object>"
      ]
     },
     "metadata": {},
     "output_type": "display_data"
    }
   ],
   "source": [
    "with torch.inference_mode():\n",
    "    text = '40cc\", \"#ff4040acd0\", \"#40ff4'\n",
    "    # text = \"#a4c073e2340d\"\n",
    "    tokens = torch.tensor(\n",
    "        task.model.tokenizer(text)[\"input_ids\"], device=\"mps\", dtype=torch.long\n",
    "    )\n",
    "    predictions = task.model(tokens).softmax(dim=-1)\n",
    "    predictions = predictions[0, :, effect_tokens].sum(dim=-1)\n",
    "    plot_tokens(tokens, predictions)\n",
    "\n",
    "    predictions = original_clean_model(tokens).softmax(dim=-1)\n",
    "    predictions = predictions[0, :, effect_tokens].sum(dim=-1)\n",
    "    plot_tokens(tokens, predictions)"
   ]
  },
  {
   "cell_type": "code",
   "execution_count": 56,
   "metadata": {},
   "outputs": [
    {
     "name": "stdout",
     "output_type": "stream",
     "text": [
      "40cc\", \"#ff4040\", \"#40ff4\n",
      "['0', 'ff', '4']\n",
      "0], plot_range[i,1], colors='#ee6a\n",
      "['ee', '6', 'a']\n",
      "1bf', '#a65628', '#984ea\n",
      "['8', '4', 'ea']\n",
      "B2B3B7'\n",
      "BLUE = '#6699\n",
      "['6', '9', '9']\n",
      " programming. Ex. \"color:red\" instead of \"color:#ff0\n",
      "[':#', 'ff', '0']\n",
      "f0;\\n\"\n",
      "            \"    border: 0px solid #f0\n",
      "[' #', 'f', '0']\n",
      "ahoo!</font>',\n",
      "            'flickr':'<font color=\"#0\n",
      "[' color', '=\"#', '0']\n",
      " # self.btn_help.configure(activebackground=\"#d9d9\n",
      "['9', 'd', '9']\n",
      "'), min=10, max=33,\n",
      "                              colour='#ffff\n",
      "[\"='\", '#', 'ffff']\n",
      "\n",
      "}\n",
      ".badge_patch {\n",
      "  background-color: #ccc\n",
      "[':', ' #', 'ccc']\n",
      "\n",
      "    text = str(nodes[0])\n",
      "    assert text == '#ff0\n",
      "[\" '#\", 'ff', '0']\n",
      " Generic.Subheading */\n",
      "\t\t.gt { color: #aa00\n",
      "['aa', '0', '0']\n",
      "\n",
      "\n",
      "    y_colors = ['#ff0000', '#00\n",
      "[\" '#\", '0', '0']\n",
      "_id: str\n",
      "    \"\"\"\n",
      "    ui_color = '#a0e0\n",
      "['0', 'e', '0']\n",
      "6cee3\",\n",
      "                \"superfamily\": \"#1f78b\n",
      "['7', '8', 'b']\n",
      "\"  cursor: hand;\\n\"\n",
      "\"  background: #fbd\n",
      "[' #', 'f', 'bd']\n",
      "ce94f\", \"#edd400\", \"#c4a\n",
      "['c', '4', 'a']\n",
      "00\"\n",
      "        else:\n",
      "            bar_color = \"#36a6\n",
      "['6', 'a', '6']\n",
      "#     eq_(c.to_hex_string(), '#f2eff\n",
      "['f', '2', 'eff']\n",
      "25,0 z\"\n",
      "       style=\"fill:#e6e6e\n",
      "['e', '6', 'e']\n"
     ]
    }
   ],
   "source": [
    "for idx in range(20):\n",
    "    tokens = task.test_data.anomalous_data[idx][0]\n",
    "    chars = []\n",
    "    for token in tokens:\n",
    "        chars.append(task.model.tokenizer.decode([token]))\n",
    "    print(task.model.tokenizer.decode(tokens))\n",
    "    print(chars[-3:])"
   ]
  },
  {
   "cell_type": "code",
   "execution_count": 45,
   "metadata": {},
   "outputs": [
    {
     "data": {
      "text/markdown": [
       "<span style=\"background: rgba(255, 0, 0, 0.21118241548538208); font-family: monospace\">4</span><span style=\"background: rgba(255, 0, 0, 0.5728784203529358); font-family: monospace\">0</span><span style=\"background: rgba(255, 0, 0, 0.40791791677474976); font-family: monospace\">cc</span><span style=\"background: rgba(255, 0, 0, 0.03255242481827736); font-family: monospace\">\",</span><span style=\"background: rgba(255, 0, 0, 0.0438600517809391); font-family: monospace\"> \"#</span><span style=\"background: rgba(255, 0, 0, 0.013040008023381233); font-family: monospace\">ff</span><span style=\"background: rgba(255, 0, 0, 0.03584872931241989); font-family: monospace\">4</span><span style=\"background: rgba(255, 0, 0, 0.061872661113739014); font-family: monospace\">0</span><span style=\"background: rgba(255, 0, 0, 0.08467549085617065); font-family: monospace\">4</span><span style=\"background: rgba(255, 0, 0, 0.17480206489562988); font-family: monospace\">0</span><span style=\"background: rgba(255, 0, 0, 0.05681828409433365); font-family: monospace\">\",</span><span style=\"background: rgba(255, 0, 0, 0.06310786306858063); font-family: monospace\"> \"#</span><span style=\"background: rgba(255, 0, 0, 0.057251937687397); font-family: monospace\">4</span><span style=\"background: rgba(255, 0, 0, 0.09112907946109772); font-family: monospace\">0</span><span style=\"background: rgba(255, 0, 0, 0.007671590428799391); font-family: monospace\">ff</span><span style=\"background: rgba(255, 0, 0, 0.05205699801445007); font-family: monospace\">4</span>"
      ],
      "text/plain": [
       "<IPython.core.display.Markdown object>"
      ]
     },
     "metadata": {},
     "output_type": "display_data"
    },
    {
     "data": {
      "text/markdown": [
       "<span style=\"background: rgba(255, 0, 0, 0.3345184326171875); font-family: monospace\">0</span><span style=\"background: rgba(255, 0, 0, 0.0004738522693514824); font-family: monospace\">],</span><span style=\"background: rgba(255, 0, 0, 0.009882522746920586); font-family: monospace\"> plot</span><span style=\"background: rgba(255, 0, 0, 0.02130291983485222); font-family: monospace\">_</span><span style=\"background: rgba(255, 0, 0, 0.003130832454189658); font-family: monospace\">range</span><span style=\"background: rgba(255, 0, 0, 0.4871579706668854); font-family: monospace\">[</span><span style=\"background: rgba(255, 0, 0, 0.022727202624082565); font-family: monospace\">i</span><span style=\"background: rgba(255, 0, 0, 0.01576242968440056); font-family: monospace\">,</span><span style=\"background: rgba(255, 0, 0, 0.22472354769706726); font-family: monospace\">1</span><span style=\"background: rgba(255, 0, 0, 0.002657733391970396); font-family: monospace\">],</span><span style=\"background: rgba(255, 0, 0, 0.006443611346185207); font-family: monospace\"> colors</span><span style=\"background: rgba(255, 0, 0, 0.04512263834476471); font-family: monospace\">='</span><span style=\"background: rgba(255, 0, 0, 0.011629745364189148); font-family: monospace\">#</span><span style=\"background: rgba(255, 0, 0, 0.09711126983165741); font-family: monospace\">ee</span><span style=\"background: rgba(255, 0, 0, 0.3680131137371063); font-family: monospace\">6</span><span style=\"background: rgba(255, 0, 0, 0.09122481197118759); font-family: monospace\">a</span>"
      ],
      "text/plain": [
       "<IPython.core.display.Markdown object>"
      ]
     },
     "metadata": {},
     "output_type": "display_data"
    },
    {
     "data": {
      "text/markdown": [
       "<span style=\"background: rgba(255, 0, 0, 0.27393007278442383); font-family: monospace\">1</span><span style=\"background: rgba(255, 0, 0, 0.4307025074958801); font-family: monospace\">bf</span><span style=\"background: rgba(255, 0, 0, 0.0023037598002701998); font-family: monospace\">',</span><span style=\"background: rgba(255, 0, 0, 0.1059805154800415); font-family: monospace\"> '#</span><span style=\"background: rgba(255, 0, 0, 0.0810871422290802); font-family: monospace\">a</span><span style=\"background: rgba(255, 0, 0, 0.09544828534126282); font-family: monospace\">6</span><span style=\"background: rgba(255, 0, 0, 0.07704369723796844); font-family: monospace\">5</span><span style=\"background: rgba(255, 0, 0, 0.1417756974697113); font-family: monospace\">6</span><span style=\"background: rgba(255, 0, 0, 0.2467673122882843); font-family: monospace\">2</span><span style=\"background: rgba(255, 0, 0, 0.15974727272987366); font-family: monospace\">8</span><span style=\"background: rgba(255, 0, 0, 0.0034275969956070185); font-family: monospace\">',</span><span style=\"background: rgba(255, 0, 0, 0.12661810219287872); font-family: monospace\"> '#</span><span style=\"background: rgba(255, 0, 0, 0.2046753615140915); font-family: monospace\">9</span><span style=\"background: rgba(255, 0, 0, 0.17398859560489655); font-family: monospace\">8</span><span style=\"background: rgba(255, 0, 0, 0.23280790448188782); font-family: monospace\">4</span><span style=\"background: rgba(255, 0, 0, 0.30225151777267456); font-family: monospace\">ea</span>"
      ],
      "text/plain": [
       "<IPython.core.display.Markdown object>"
      ]
     },
     "metadata": {},
     "output_type": "display_data"
    },
    {
     "data": {
      "text/markdown": [
       "<span style=\"background: rgba(255, 0, 0, 0.055332377552986145); font-family: monospace\">B</span><span style=\"background: rgba(255, 0, 0, 0.22831027209758759); font-family: monospace\">2</span><span style=\"background: rgba(255, 0, 0, 0.26080578565597534); font-family: monospace\">B</span><span style=\"background: rgba(255, 0, 0, 0.145503431558609); font-family: monospace\">3</span><span style=\"background: rgba(255, 0, 0, 0.33185046911239624); font-family: monospace\">B</span><span style=\"background: rgba(255, 0, 0, 0.07676947116851807); font-family: monospace\">7</span><span style=\"background: rgba(255, 0, 0, 0.012457448989152908); font-family: monospace\">'</span><span style=\"background: rgba(255, 0, 0, 0.016642458736896515); font-family: monospace\"> </span><span style=\"background: rgba(255, 0, 0, 0.008809907361865044); font-family: monospace\">BL</span><span style=\"background: rgba(255, 0, 0, 0.014605400152504444); font-family: monospace\">UE</span><span style=\"background: rgba(255, 0, 0, 0.0008319677435792983); font-family: monospace\"> =</span><span style=\"background: rgba(255, 0, 0, 0.0455920584499836); font-family: monospace\"> '#</span><span style=\"background: rgba(255, 0, 0, 0.16379700601100922); font-family: monospace\">6</span><span style=\"background: rgba(255, 0, 0, 0.18006491661071777); font-family: monospace\">6</span><span style=\"background: rgba(255, 0, 0, 0.19143342971801758); font-family: monospace\">9</span><span style=\"background: rgba(255, 0, 0, 0.3393469452857971); font-family: monospace\">9</span>"
      ],
      "text/plain": [
       "<IPython.core.display.Markdown object>"
      ]
     },
     "metadata": {},
     "output_type": "display_data"
    },
    {
     "data": {
      "text/markdown": [
       "<span style=\"background: rgba(255, 0, 0, 0.005153748206794262); font-family: monospace\"> programming</span><span style=\"background: rgba(255, 0, 0, 0.01175444945693016); font-family: monospace\">.</span><span style=\"background: rgba(255, 0, 0, 0.02466074377298355); font-family: monospace\"> Ex</span><span style=\"background: rgba(255, 0, 0, 0.02748178504407406); font-family: monospace\">.</span><span style=\"background: rgba(255, 0, 0, 0.0809221863746643); font-family: monospace\"> \"</span><span style=\"background: rgba(255, 0, 0, 0.026929780840873718); font-family: monospace\">color</span><span style=\"background: rgba(255, 0, 0, 0.14171476662158966); font-family: monospace\">:</span><span style=\"background: rgba(255, 0, 0, 0.020131666213274002); font-family: monospace\">red</span><span style=\"background: rgba(255, 0, 0, 0.0020564296282827854); font-family: monospace\">\"</span><span style=\"background: rgba(255, 0, 0, 0.0003163796500302851); font-family: monospace\"> instead</span><span style=\"background: rgba(255, 0, 0, 0.0005415562773123384); font-family: monospace\"> of</span><span style=\"background: rgba(255, 0, 0, 0.08955009281635284); font-family: monospace\"> \"</span><span style=\"background: rgba(255, 0, 0, 0.009319429285824299); font-family: monospace\">color</span><span style=\"background: rgba(255, 0, 0, 0.03148207813501358); font-family: monospace\">:#</span><span style=\"background: rgba(255, 0, 0, 0.005928969010710716); font-family: monospace\">ff</span><span style=\"background: rgba(255, 0, 0, 0.069547139108181); font-family: monospace\">0</span>"
      ],
      "text/plain": [
       "<IPython.core.display.Markdown object>"
      ]
     },
     "metadata": {},
     "output_type": "display_data"
    },
    {
     "data": {
      "text/markdown": [
       "<span style=\"background: rgba(255, 0, 0, 0.08699297904968262); font-family: monospace\">f</span><span style=\"background: rgba(255, 0, 0, 0.5816817283630371); font-family: monospace\">0</span><span style=\"background: rgba(255, 0, 0, 0.281068354845047); font-family: monospace\">;\\</span><span style=\"background: rgba(255, 0, 0, 0.14329588413238525); font-family: monospace\">n</span><span style=\"background: rgba(255, 0, 0, 0.019414737820625305); font-family: monospace\">\"</span><span style=\"background: rgba(255, 0, 0, 0.0005104939336888492); font-family: monospace\">            </span><span style=\"background: rgba(255, 0, 0, 0.27310359477996826); font-family: monospace\"> \"</span><span style=\"background: rgba(255, 0, 0, 0.010822135023772717); font-family: monospace\">   </span><span style=\"background: rgba(255, 0, 0, 0.016233276575803757); font-family: monospace\"> border</span><span style=\"background: rgba(255, 0, 0, 0.1413465440273285); font-family: monospace\">:</span><span style=\"background: rgba(255, 0, 0, 0.17866146564483643); font-family: monospace\"> 0</span><span style=\"background: rgba(255, 0, 0, 0.06057180464267731); font-family: monospace\">px</span><span style=\"background: rgba(255, 0, 0, 0.009220892563462257); font-family: monospace\"> solid</span><span style=\"background: rgba(255, 0, 0, 0.0005958204274065793); font-family: monospace\"> #</span><span style=\"background: rgba(255, 0, 0, 0.021924134343862534); font-family: monospace\">f</span><span style=\"background: rgba(255, 0, 0, 0.17262688279151917); font-family: monospace\">0</span>"
      ],
      "text/plain": [
       "<IPython.core.display.Markdown object>"
      ]
     },
     "metadata": {},
     "output_type": "display_data"
    },
    {
     "data": {
      "text/markdown": [
       "<span style=\"background: rgba(255, 0, 0, 0.025958776473999023); font-family: monospace\">ahoo</span><span style=\"background: rgba(255, 0, 0, 0.01431992556899786); font-family: monospace\">!</span><span style=\"background: rgba(255, 0, 0, 0.033427461981773376); font-family: monospace\"></</span><span style=\"background: rgba(255, 0, 0, 0.009948119521141052); font-family: monospace\">font</span><span style=\"background: rgba(255, 0, 0, 0.04650825262069702); font-family: monospace\">></span><span style=\"background: rgba(255, 0, 0, 0.012538548558950424); font-family: monospace\">',</span><span style=\"background: rgba(255, 0, 0, 0.0014498415403068066); font-family: monospace\">            </span><span style=\"background: rgba(255, 0, 0, 0.07921554148197174); font-family: monospace\"> '</span><span style=\"background: rgba(255, 0, 0, 0.2721140384674072); font-family: monospace\">f</span><span style=\"background: rgba(255, 0, 0, 0.045957788825035095); font-family: monospace\">lickr</span><span style=\"background: rgba(255, 0, 0, 0.10057249665260315); font-family: monospace\">':'</span><span style=\"background: rgba(255, 0, 0, 0.16577690839767456); font-family: monospace\"><</span><span style=\"background: rgba(255, 0, 0, 0.06439060717821121); font-family: monospace\">font</span><span style=\"background: rgba(255, 0, 0, 0.03644225746393204); font-family: monospace\"> color</span><span style=\"background: rgba(255, 0, 0, 0.037006791681051254); font-family: monospace\">=\"#</span><span style=\"background: rgba(255, 0, 0, 0.036530815064907074); font-family: monospace\">0</span>"
      ],
      "text/plain": [
       "<IPython.core.display.Markdown object>"
      ]
     },
     "metadata": {},
     "output_type": "display_data"
    },
    {
     "data": {
      "text/markdown": [
       "<span style=\"background: rgba(255, 0, 0, 0.007288141641765833); font-family: monospace\"> #</span><span style=\"background: rgba(255, 0, 0, 0.002634715288877487); font-family: monospace\"> self</span><span style=\"background: rgba(255, 0, 0, 0.040652621537446976); font-family: monospace\">.</span><span style=\"background: rgba(255, 0, 0, 0.01911606267094612); font-family: monospace\">btn</span><span style=\"background: rgba(255, 0, 0, 0.058679450303316116); font-family: monospace\">_</span><span style=\"background: rgba(255, 0, 0, 0.0022193840704858303); font-family: monospace\">help</span><span style=\"background: rgba(255, 0, 0, 0.03804761543869972); font-family: monospace\">.</span><span style=\"background: rgba(255, 0, 0, 0.00018204461957793683); font-family: monospace\">configure</span><span style=\"background: rgba(255, 0, 0, 0.05242837220430374); font-family: monospace\">(</span><span style=\"background: rgba(255, 0, 0, 0.0018094968982040882); font-family: monospace\">active</span><span style=\"background: rgba(255, 0, 0, 0.004644269589334726); font-family: monospace\">background</span><span style=\"background: rgba(255, 0, 0, 0.010781781747937202); font-family: monospace\">=\"#</span><span style=\"background: rgba(255, 0, 0, 0.009631799533963203); font-family: monospace\">d</span><span style=\"background: rgba(255, 0, 0, 0.07360106706619263); font-family: monospace\">9</span><span style=\"background: rgba(255, 0, 0, 0.014048993587493896); font-family: monospace\">d</span><span style=\"background: rgba(255, 0, 0, 0.16874459385871887); font-family: monospace\">9</span>"
      ],
      "text/plain": [
       "<IPython.core.display.Markdown object>"
      ]
     },
     "metadata": {},
     "output_type": "display_data"
    },
    {
     "data": {
      "text/markdown": [
       "<span style=\"background: rgba(255, 0, 0, 0.005786453373730183); font-family: monospace\">'),</span><span style=\"background: rgba(255, 0, 0, 0.014381388202309608); font-family: monospace\"> min</span><span style=\"background: rgba(255, 0, 0, 0.33651795983314514); font-family: monospace\">=</span><span style=\"background: rgba(255, 0, 0, 0.5457568168640137); font-family: monospace\">1</span><span style=\"background: rgba(255, 0, 0, 0.7867259979248047); font-family: monospace\">0</span><span style=\"background: rgba(255, 0, 0, 0.003614221466705203); font-family: monospace\">,</span><span style=\"background: rgba(255, 0, 0, 0.0243521761149168); font-family: monospace\"> max</span><span style=\"background: rgba(255, 0, 0, 0.8671055436134338); font-family: monospace\">=</span><span style=\"background: rgba(255, 0, 0, 0.7107825875282288); font-family: monospace\">3</span><span style=\"background: rgba(255, 0, 0, 0.6973373889923096); font-family: monospace\">3</span><span style=\"background: rgba(255, 0, 0, 0.0025955885648727417); font-family: monospace\">,</span><span style=\"background: rgba(255, 0, 0, 0.00010420259786769748); font-family: monospace\">                              </span><span style=\"background: rgba(255, 0, 0, 0.0014087425079196692); font-family: monospace\"> colour</span><span style=\"background: rgba(255, 0, 0, 0.15488901734352112); font-family: monospace\">='</span><span style=\"background: rgba(255, 0, 0, 0.013498654589056969); font-family: monospace\">#</span><span style=\"background: rgba(255, 0, 0, 0.0656384751200676); font-family: monospace\">ffff</span>"
      ],
      "text/plain": [
       "<IPython.core.display.Markdown object>"
      ]
     },
     "metadata": {},
     "output_type": "display_data"
    },
    {
     "data": {
      "text/markdown": [
       "<span style=\"background: rgba(255, 0, 0, 0.02741706743836403); font-family: monospace\"> </span><span style=\"background: rgba(255, 0, 0, 0.0009167360840365291); font-family: monospace\">}</span><span style=\"background: rgba(255, 0, 0, 0.0015781375113874674); font-family: monospace\"> </span><span style=\"background: rgba(255, 0, 0, 0.0240265391767025); font-family: monospace\">.</span><span style=\"background: rgba(255, 0, 0, 0.008962328545749187); font-family: monospace\">bad</span><span style=\"background: rgba(255, 0, 0, 0.01048971712589264); font-family: monospace\">ge</span><span style=\"background: rgba(255, 0, 0, 0.07034614682197571); font-family: monospace\">_</span><span style=\"background: rgba(255, 0, 0, 0.03775922954082489); font-family: monospace\">patch</span><span style=\"background: rgba(255, 0, 0, 0.09021686017513275); font-family: monospace\"> {</span><span style=\"background: rgba(255, 0, 0, 0.00021635371376760304); font-family: monospace\">  </span><span style=\"background: rgba(255, 0, 0, 0.005649338476359844); font-family: monospace\"> background</span><span style=\"background: rgba(255, 0, 0, 0.019760122522711754); font-family: monospace\">-</span><span style=\"background: rgba(255, 0, 0, 0.0019669493194669485); font-family: monospace\">color</span><span style=\"background: rgba(255, 0, 0, 0.006181853357702494); font-family: monospace\">:</span><span style=\"background: rgba(255, 0, 0, 0.00025911591365002096); font-family: monospace\"> #</span><span style=\"background: rgba(255, 0, 0, 0.06065869703888893); font-family: monospace\">ccc</span>"
      ],
      "text/plain": [
       "<IPython.core.display.Markdown object>"
      ]
     },
     "metadata": {},
     "output_type": "display_data"
    },
    {
     "data": {
      "text/markdown": [
       "<span style=\"background: rgba(255, 0, 0, 0.019773414358496666); font-family: monospace\">    </span><span style=\"background: rgba(255, 0, 0, 0.026812927797436714); font-family: monospace\"> text</span><span style=\"background: rgba(255, 0, 0, 1.4096602171775885e-05); font-family: monospace\"> =</span><span style=\"background: rgba(255, 0, 0, 0.005032343789935112); font-family: monospace\"> str</span><span style=\"background: rgba(255, 0, 0, 0.06882579624652863); font-family: monospace\">(</span><span style=\"background: rgba(255, 0, 0, 0.0022709474433213472); font-family: monospace\">nodes</span><span style=\"background: rgba(255, 0, 0, 0.6074312925338745); font-family: monospace\">[</span><span style=\"background: rgba(255, 0, 0, 0.013922267593443394); font-family: monospace\">0</span><span style=\"background: rgba(255, 0, 0, 0.001049012178555131); font-family: monospace\">])</span><span style=\"background: rgba(255, 0, 0, 2.680128272913862e-05); font-family: monospace\">    </span><span style=\"background: rgba(255, 0, 0, 0.0045776935294270515); font-family: monospace\"> assert</span><span style=\"background: rgba(255, 0, 0, 0.009677594527602196); font-family: monospace\"> text</span><span style=\"background: rgba(255, 0, 0, 0.00015955138951539993); font-family: monospace\"> ==</span><span style=\"background: rgba(255, 0, 0, 0.011245404370129108); font-family: monospace\"> '#</span><span style=\"background: rgba(255, 0, 0, 0.02823571488261223); font-family: monospace\">ff</span><span style=\"background: rgba(255, 0, 0, 0.05547302961349487); font-family: monospace\">0</span>"
      ],
      "text/plain": [
       "<IPython.core.display.Markdown object>"
      ]
     },
     "metadata": {},
     "output_type": "display_data"
    },
    {
     "data": {
      "text/markdown": [
       "<span style=\"background: rgba(255, 0, 0, 0.013561968691647053); font-family: monospace\"> Generic</span><span style=\"background: rgba(255, 0, 0, 0.007031455170363188); font-family: monospace\">.</span><span style=\"background: rgba(255, 0, 0, 0.008839355781674385); font-family: monospace\">Sub</span><span style=\"background: rgba(255, 0, 0, 0.022458437830209732); font-family: monospace\">heading</span><span style=\"background: rgba(255, 0, 0, 0.07056959718465805); font-family: monospace\"> */</span><span style=\"background: rgba(255, 0, 0, 0.00047583479317836463); font-family: monospace\"> \t</span><span style=\"background: rgba(255, 0, 0, 0.020760418847203255); font-family: monospace\">\t</span><span style=\"background: rgba(255, 0, 0, 0.05967132747173309); font-family: monospace\">.</span><span style=\"background: rgba(255, 0, 0, 0.036256976425647736); font-family: monospace\">gt</span><span style=\"background: rgba(255, 0, 0, 0.08642452955245972); font-family: monospace\"> {</span><span style=\"background: rgba(255, 0, 0, 0.00845964252948761); font-family: monospace\"> color</span><span style=\"background: rgba(255, 0, 0, 0.010473011061549187); font-family: monospace\">:</span><span style=\"background: rgba(255, 0, 0, 0.0005769125418737531); font-family: monospace\"> #</span><span style=\"background: rgba(255, 0, 0, 0.0033176327124238014); font-family: monospace\">aa</span><span style=\"background: rgba(255, 0, 0, 0.10673835128545761); font-family: monospace\">0</span><span style=\"background: rgba(255, 0, 0, 0.13624945282936096); font-family: monospace\">0</span>"
      ],
      "text/plain": [
       "<IPython.core.display.Markdown object>"
      ]
     },
     "metadata": {},
     "output_type": "display_data"
    },
    {
     "data": {
      "text/markdown": [
       "<span style=\"background: rgba(255, 0, 0, 0.012097937986254692); font-family: monospace\">     </span><span style=\"background: rgba(255, 0, 0, 0.05118388682603836); font-family: monospace\"> y</span><span style=\"background: rgba(255, 0, 0, 0.043442800641059875); font-family: monospace\">_</span><span style=\"background: rgba(255, 0, 0, 0.004796631634235382); font-family: monospace\">colors</span><span style=\"background: rgba(255, 0, 0, 0.00014214261318556964); font-family: monospace\"> =</span><span style=\"background: rgba(255, 0, 0, 0.08051026612520218); font-family: monospace\"> ['</span><span style=\"background: rgba(255, 0, 0, 0.013638976961374283); font-family: monospace\">#</span><span style=\"background: rgba(255, 0, 0, 0.05093669891357422); font-family: monospace\">ff</span><span style=\"background: rgba(255, 0, 0, 0.32088106870651245); font-family: monospace\">0</span><span style=\"background: rgba(255, 0, 0, 0.4207356572151184); font-family: monospace\">0</span><span style=\"background: rgba(255, 0, 0, 0.48838382959365845); font-family: monospace\">0</span><span style=\"background: rgba(255, 0, 0, 0.5363593697547913); font-family: monospace\">0</span><span style=\"background: rgba(255, 0, 0, 0.00021390218171291053); font-family: monospace\">',</span><span style=\"background: rgba(255, 0, 0, 0.03777912259101868); font-family: monospace\"> '#</span><span style=\"background: rgba(255, 0, 0, 0.13305965065956116); font-family: monospace\">0</span><span style=\"background: rgba(255, 0, 0, 0.12621569633483887); font-family: monospace\">0</span>"
      ],
      "text/plain": [
       "<IPython.core.display.Markdown object>"
      ]
     },
     "metadata": {},
     "output_type": "display_data"
    },
    {
     "data": {
      "text/markdown": [
       "<span style=\"background: rgba(255, 0, 0, 0.0534539595246315); font-family: monospace\">_</span><span style=\"background: rgba(255, 0, 0, 0.04389714449644089); font-family: monospace\">id</span><span style=\"background: rgba(255, 0, 0, 0.04683201014995575); font-family: monospace\">:</span><span style=\"background: rgba(255, 0, 0, 0.05133837088942528); font-family: monospace\"> str</span><span style=\"background: rgba(255, 0, 0, 3.505207860143855e-05); font-family: monospace\">    </span><span style=\"background: rgba(255, 0, 0, 0.0014923987910151482); font-family: monospace\"> \"\"\"</span><span style=\"background: rgba(255, 0, 0, 3.974696483055595e-06); font-family: monospace\">    </span><span style=\"background: rgba(255, 0, 0, 0.0038134632632136345); font-family: monospace\"> ui</span><span style=\"background: rgba(255, 0, 0, 0.02197105810046196); font-family: monospace\">_</span><span style=\"background: rgba(255, 0, 0, 0.00256186886690557); font-family: monospace\">color</span><span style=\"background: rgba(255, 0, 0, 5.011536632082425e-05); font-family: monospace\"> =</span><span style=\"background: rgba(255, 0, 0, 0.013772796839475632); font-family: monospace\"> '#</span><span style=\"background: rgba(255, 0, 0, 0.038559768348932266); font-family: monospace\">a</span><span style=\"background: rgba(255, 0, 0, 0.06679868698120117); font-family: monospace\">0</span><span style=\"background: rgba(255, 0, 0, 0.10225576162338257); font-family: monospace\">e</span><span style=\"background: rgba(255, 0, 0, 0.20366767048835754); font-family: monospace\">0</span>"
      ],
      "text/plain": [
       "<IPython.core.display.Markdown object>"
      ]
     },
     "metadata": {},
     "output_type": "display_data"
    },
    {
     "data": {
      "text/markdown": [
       "<span style=\"background: rgba(255, 0, 0, 0.2657318711280823); font-family: monospace\">6</span><span style=\"background: rgba(255, 0, 0, 0.3221033811569214); font-family: monospace\">ce</span><span style=\"background: rgba(255, 0, 0, 0.6269063949584961); font-family: monospace\">e</span><span style=\"background: rgba(255, 0, 0, 0.7481839060783386); font-family: monospace\">3</span><span style=\"background: rgba(255, 0, 0, 0.0017100912518799305); font-family: monospace\">\",</span><span style=\"background: rgba(255, 0, 0, 0.00016347720520570874); font-family: monospace\">                </span><span style=\"background: rgba(255, 0, 0, 0.1387663036584854); font-family: monospace\"> \"</span><span style=\"background: rgba(255, 0, 0, 0.13716143369674683); font-family: monospace\">super</span><span style=\"background: rgba(255, 0, 0, 0.02608165331184864); font-family: monospace\">family</span><span style=\"background: rgba(255, 0, 0, 0.002463388256728649); font-family: monospace\">\":</span><span style=\"background: rgba(255, 0, 0, 0.04608648270368576); font-family: monospace\"> \"#</span><span style=\"background: rgba(255, 0, 0, 0.06310535967350006); font-family: monospace\">1</span><span style=\"background: rgba(255, 0, 0, 0.06398282200098038); font-family: monospace\">f</span><span style=\"background: rgba(255, 0, 0, 0.12733280658721924); font-family: monospace\">7</span><span style=\"background: rgba(255, 0, 0, 0.25750476121902466); font-family: monospace\">8</span><span style=\"background: rgba(255, 0, 0, 0.47369566559791565); font-family: monospace\">b</span>"
      ],
      "text/plain": [
       "<IPython.core.display.Markdown object>"
      ]
     },
     "metadata": {},
     "output_type": "display_data"
    },
    {
     "data": {
      "text/markdown": [
       "<span style=\"background: rgba(255, 0, 0, 0.0070057217963039875); font-family: monospace\">\"</span><span style=\"background: rgba(255, 0, 0, 0.0010367868235334754); font-family: monospace\"> </span><span style=\"background: rgba(255, 0, 0, 0.003064066171646118); font-family: monospace\"> cursor</span><span style=\"background: rgba(255, 0, 0, 0.006584403105080128); font-family: monospace\">:</span><span style=\"background: rgba(255, 0, 0, 0.013544434681534767); font-family: monospace\"> hand</span><span style=\"background: rgba(255, 0, 0, 0.035214681178331375); font-family: monospace\">;\\</span><span style=\"background: rgba(255, 0, 0, 0.005787555128335953); font-family: monospace\">n</span><span style=\"background: rgba(255, 0, 0, 0.0016047866083681583); font-family: monospace\">\"</span><span style=\"background: rgba(255, 0, 0, 0.006280386820435524); font-family: monospace\"> </span><span style=\"background: rgba(255, 0, 0, 0.04206516966223717); font-family: monospace\">\"</span><span style=\"background: rgba(255, 0, 0, 0.0003281075041741133); font-family: monospace\"> </span><span style=\"background: rgba(255, 0, 0, 0.0009942874312400818); font-family: monospace\"> background</span><span style=\"background: rgba(255, 0, 0, 0.010363932698965073); font-family: monospace\">:</span><span style=\"background: rgba(255, 0, 0, 0.00040969112887978554); font-family: monospace\"> #</span><span style=\"background: rgba(255, 0, 0, 0.017085600644350052); font-family: monospace\">f</span><span style=\"background: rgba(255, 0, 0, 0.01222900953143835); font-family: monospace\">bd</span>"
      ],
      "text/plain": [
       "<IPython.core.display.Markdown object>"
      ]
     },
     "metadata": {},
     "output_type": "display_data"
    },
    {
     "data": {
      "text/markdown": [
       "<span style=\"background: rgba(255, 0, 0, 0.10721210390329361); font-family: monospace\">ce</span><span style=\"background: rgba(255, 0, 0, 0.6751198768615723); font-family: monospace\">9</span><span style=\"background: rgba(255, 0, 0, 0.694413959980011); font-family: monospace\">4</span><span style=\"background: rgba(255, 0, 0, 0.600892186164856); font-family: monospace\">f</span><span style=\"background: rgba(255, 0, 0, 0.05141231045126915); font-family: monospace\">\",</span><span style=\"background: rgba(255, 0, 0, 0.09600692987442017); font-family: monospace\"> \"#</span><span style=\"background: rgba(255, 0, 0, 0.17179881036281586); font-family: monospace\">ed</span><span style=\"background: rgba(255, 0, 0, 0.11413209140300751); font-family: monospace\">d</span><span style=\"background: rgba(255, 0, 0, 0.1405564546585083); font-family: monospace\">4</span><span style=\"background: rgba(255, 0, 0, 0.22309520840644836); font-family: monospace\">0</span><span style=\"background: rgba(255, 0, 0, 0.28722137212753296); font-family: monospace\">0</span><span style=\"background: rgba(255, 0, 0, 0.03235826641321182); font-family: monospace\">\",</span><span style=\"background: rgba(255, 0, 0, 0.07541899383068085); font-family: monospace\"> \"#</span><span style=\"background: rgba(255, 0, 0, 0.05507747083902359); font-family: monospace\">c</span><span style=\"background: rgba(255, 0, 0, 0.12944993376731873); font-family: monospace\">4</span><span style=\"background: rgba(255, 0, 0, 0.04795391485095024); font-family: monospace\">a</span>"
      ],
      "text/plain": [
       "<IPython.core.display.Markdown object>"
      ]
     },
     "metadata": {},
     "output_type": "display_data"
    },
    {
     "data": {
      "text/markdown": [
       "<span style=\"background: rgba(255, 0, 0, 0.3345184326171875); font-family: monospace\">0</span><span style=\"background: rgba(255, 0, 0, 0.8269202709197998); font-family: monospace\">0</span><span style=\"background: rgba(255, 0, 0, 0.03373903036117554); font-family: monospace\">\"</span><span style=\"background: rgba(255, 0, 0, 5.0894057494588196e-05); font-family: monospace\">        </span><span style=\"background: rgba(255, 0, 0, 0.0025458266027271748); font-family: monospace\"> else</span><span style=\"background: rgba(255, 0, 0, 0.006477686110883951); font-family: monospace\">:</span><span style=\"background: rgba(255, 0, 0, 0.00022961696959100664); font-family: monospace\">            </span><span style=\"background: rgba(255, 0, 0, 0.1510811746120453); font-family: monospace\"> bar</span><span style=\"background: rgba(255, 0, 0, 0.04716899245977402); font-family: monospace\">_</span><span style=\"background: rgba(255, 0, 0, 0.005434541031718254); font-family: monospace\">color</span><span style=\"background: rgba(255, 0, 0, 0.00036487518809735775); font-family: monospace\"> =</span><span style=\"background: rgba(255, 0, 0, 0.024677401408553123); font-family: monospace\"> \"#</span><span style=\"background: rgba(255, 0, 0, 0.03305909410119057); font-family: monospace\">3</span><span style=\"background: rgba(255, 0, 0, 0.03891468048095703); font-family: monospace\">6</span><span style=\"background: rgba(255, 0, 0, 0.02898932248353958); font-family: monospace\">a</span><span style=\"background: rgba(255, 0, 0, 0.11218195408582687); font-family: monospace\">6</span>"
      ],
      "text/plain": [
       "<IPython.core.display.Markdown object>"
      ]
     },
     "metadata": {},
     "output_type": "display_data"
    },
    {
     "data": {
      "text/markdown": [
       "<span style=\"background: rgba(255, 0, 0, 0.00927298329770565); font-family: monospace\">#</span><span style=\"background: rgba(255, 0, 0, 0.0038346329238265753); font-family: monospace\">    </span><span style=\"background: rgba(255, 0, 0, 0.019709475338459015); font-family: monospace\"> eq</span><span style=\"background: rgba(255, 0, 0, 0.0781836286187172); font-family: monospace\">_(</span><span style=\"background: rgba(255, 0, 0, 0.10396794974803925); font-family: monospace\">c</span><span style=\"background: rgba(255, 0, 0, 0.09107625484466553); font-family: monospace\">.</span><span style=\"background: rgba(255, 0, 0, 0.20979304611682892); font-family: monospace\">to</span><span style=\"background: rgba(255, 0, 0, 0.07073833793401718); font-family: monospace\">_</span><span style=\"background: rgba(255, 0, 0, 0.05443485826253891); font-family: monospace\">hex</span><span style=\"background: rgba(255, 0, 0, 0.14165163040161133); font-family: monospace\">_</span><span style=\"background: rgba(255, 0, 0, 0.006611748598515987); font-family: monospace\">string</span><span style=\"background: rgba(255, 0, 0, 0.005584764294326305); font-family: monospace\">(),</span><span style=\"background: rgba(255, 0, 0, 0.012756818905472755); font-family: monospace\"> '#</span><span style=\"background: rgba(255, 0, 0, 0.02549206092953682); font-family: monospace\">f</span><span style=\"background: rgba(255, 0, 0, 0.05542609840631485); font-family: monospace\">2</span><span style=\"background: rgba(255, 0, 0, 0.009505744092166424); font-family: monospace\">eff</span>"
      ],
      "text/plain": [
       "<IPython.core.display.Markdown object>"
      ]
     },
     "metadata": {},
     "output_type": "display_data"
    },
    {
     "data": {
      "text/markdown": [
       "<span style=\"background: rgba(255, 0, 0, 0.2417166531085968); font-family: monospace\">2</span><span style=\"background: rgba(255, 0, 0, 0.6496925950050354); font-family: monospace\">5</span><span style=\"background: rgba(255, 0, 0, 0.05049341171979904); font-family: monospace\">,</span><span style=\"background: rgba(255, 0, 0, 0.8433701992034912); font-family: monospace\">0</span><span style=\"background: rgba(255, 0, 0, 0.12264537811279297); font-family: monospace\"> z</span><span style=\"background: rgba(255, 0, 0, 0.043149519711732864); font-family: monospace\">\"</span><span style=\"background: rgba(255, 0, 0, 0.00030142872128635645); font-family: monospace\">       </span><span style=\"background: rgba(255, 0, 0, 0.010629074648022652); font-family: monospace\"> style</span><span style=\"background: rgba(255, 0, 0, 0.035887882113456726); font-family: monospace\">=\"</span><span style=\"background: rgba(255, 0, 0, 0.1008690893650055); font-family: monospace\">fill</span><span style=\"background: rgba(255, 0, 0, 0.05095671862363815); font-family: monospace\">:#</span><span style=\"background: rgba(255, 0, 0, 0.0460580550134182); font-family: monospace\">e</span><span style=\"background: rgba(255, 0, 0, 0.37215739488601685); font-family: monospace\">6</span><span style=\"background: rgba(255, 0, 0, 0.09180068969726562); font-family: monospace\">e</span><span style=\"background: rgba(255, 0, 0, 0.5005832314491272); font-family: monospace\">6</span><span style=\"background: rgba(255, 0, 0, 0.19122910499572754); font-family: monospace\">e</span>"
      ],
      "text/plain": [
       "<IPython.core.display.Markdown object>"
      ]
     },
     "metadata": {},
     "output_type": "display_data"
    }
   ],
   "source": [
    "with torch.inference_mode():\n",
    "    for idx in range(20):\n",
    "        tokens = task.test_data.anomalous_data[idx][0]\n",
    "        predictions = (\n",
    "            original_clean_model(tokens)\n",
    "            .softmax(dim=-1)[0, :, effect_tokens]\n",
    "            .sum(dim=-1)\n",
    "        )\n",
    "        plot_tokens(tokens, predictions)"
   ]
  },
  {
   "cell_type": "code",
   "execution_count": null,
   "metadata": {},
   "outputs": [],
   "source": []
  },
  {
   "cell_type": "markdown",
   "metadata": {},
   "source": [
    "# Dataset preparation"
   ]
  },
  {
   "cell_type": "code",
   "execution_count": null,
   "metadata": {},
   "outputs": [],
   "source": [
    "# From https://github.com/EleutherAI/elk-generalization/blob/main/elk_generalization/training/sft.py\n",
    "class LastTokenOnlyDataCollator(DataCollatorForLanguageModeling):\n",
    "    def torch_call(self, examples: list[dict[str, Any]]) -> dict[str, Any]:\n",
    "        # pass only input_ids and attention_mask for super().torch_call\n",
    "        encodings = [\n",
    "            {k: d[k] for k in (\"input_ids\", \"attention_mask\")} for d in examples\n",
    "        ]\n",
    "        batch = super().torch_call(encodings)\n",
    "\n",
    "        # Compute the sequence length of each sample in the batch\n",
    "        seq_lens = torch.sum(batch[\"input_ids\"] != tokenizer.pad_token_id, dim=1)\n",
    "\n",
    "        # Create a new tensor for the labels, fill it with -100, then copy over\n",
    "        # only the last token for each sequence\n",
    "        old_labels = batch[\"labels\"]\n",
    "        batch[\"labels\"] = torch.full_like(old_labels, -100).scatter_(\n",
    "            1, seq_lens[:, None] - 1, old_labels.gather(1, seq_lens[:, None] - 1)\n",
    "        )\n",
    "\n",
    "        return batch"
   ]
  },
  {
   "cell_type": "code",
   "execution_count": 9,
   "metadata": {},
   "outputs": [
    {
     "data": {
      "text/plain": [
       "HookedTransformer(\n",
       "  (embed): Embed()\n",
       "  (hook_embed): HookPoint()\n",
       "  (pos_embed): PosEmbed()\n",
       "  (hook_pos_embed): HookPoint()\n",
       "  (blocks): ModuleList(\n",
       "    (0): TransformerBlock(\n",
       "      (ln1): LayerNorm(\n",
       "        (hook_scale): HookPoint()\n",
       "        (hook_normalized): HookPoint()\n",
       "      )\n",
       "      (attn): Attention(\n",
       "        (hook_k): HookPoint()\n",
       "        (hook_q): HookPoint()\n",
       "        (hook_v): HookPoint()\n",
       "        (hook_z): HookPoint()\n",
       "        (hook_attn_scores): HookPoint()\n",
       "        (hook_pattern): HookPoint()\n",
       "        (hook_result): HookPoint()\n",
       "      )\n",
       "      (hook_attn_in): HookPoint()\n",
       "      (hook_q_input): HookPoint()\n",
       "      (hook_k_input): HookPoint()\n",
       "      (hook_v_input): HookPoint()\n",
       "      (hook_mlp_in): HookPoint()\n",
       "      (hook_attn_out): HookPoint()\n",
       "      (hook_mlp_out): HookPoint()\n",
       "      (hook_resid_pre): HookPoint()\n",
       "      (hook_resid_post): HookPoint()\n",
       "    )\n",
       "  )\n",
       "  (ln_final): LayerNorm(\n",
       "    (hook_scale): HookPoint()\n",
       "    (hook_normalized): HookPoint()\n",
       "  )\n",
       "  (unembed): Unembed()\n",
       ")"
      ]
     },
     "execution_count": 9,
     "metadata": {},
     "output_type": "execute_result"
    }
   ],
   "source": [
    "clean_model"
   ]
  }
 ],
 "metadata": {
  "kernelspec": {
   "display_name": "cupbearer",
   "language": "python",
   "name": "python3"
  },
  "language_info": {
   "codemirror_mode": {
    "name": "ipython",
    "version": 3
   },
   "file_extension": ".py",
   "mimetype": "text/x-python",
   "name": "python",
   "nbconvert_exporter": "python",
   "pygments_lexer": "ipython3",
   "version": "3.10.9"
  }
 },
 "nbformat": 4,
 "nbformat_minor": 2
}
