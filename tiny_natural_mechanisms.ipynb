{
 "cells": [
  {
   "cell_type": "code",
   "execution_count": 1,
   "metadata": {},
   "outputs": [],
   "source": [
    "%load_ext autoreload\n",
    "%autoreload 2"
   ]
  },
  {
   "cell_type": "code",
   "execution_count": 2,
   "metadata": {},
   "outputs": [],
   "source": [
    "import json\n",
    "from copy import deepcopy\n",
    "\n",
    "import blobfile as bf\n",
    "import torch\n",
    "from cupbearer import data, detectors, models, scripts, tasks, utils\n",
    "from IPython.display import Markdown, display\n",
    "from torch import nn\n",
    "from torch.utils.data import Subset\n",
    "from transformer_lens import HookedTransformer"
   ]
  },
  {
   "cell_type": "code",
   "execution_count": 3,
   "metadata": {},
   "outputs": [
    {
     "name": "stdout",
     "output_type": "stream",
     "text": [
      "Loaded pretrained model attn-only-1l into HookedTransformer\n",
      "Moving model to device:  mps\n"
     ]
    }
   ],
   "source": [
    "task = tasks.tiny_natural_mechanisms(\"hex\", \"mps\")"
   ]
  },
  {
   "cell_type": "code",
   "execution_count": 4,
   "metadata": {},
   "outputs": [],
   "source": [
    "def get_activation_at_last_token(\n",
    "    activation: torch.Tensor, inputs: list[list[int]], name: str\n",
    "):\n",
    "    if activation.ndim == 3:\n",
    "        # Residual stream or equivalent, shape is (batch, seq, hidden)\n",
    "        return activation[:, -1, :]\n",
    "    elif activation.ndim == 4 and activation.shape[-1] == activation.shape[-2]:\n",
    "        # Attention, shape is (batch, num_heads, query, key)\n",
    "        # TODO: this could also be Q/K/V if n_heads happens to be head_dim\n",
    "        return activation[:, :, -1, :].reshape(activation.shape[0], -1)\n",
    "    elif activation.ndim == 4:\n",
    "        # Query/key/value, shape is (batch, seq, num_heads, hidden)\n",
    "        return activation[:, -1, :, :].reshape(activation.shape[0], -1)\n",
    "    else:\n",
    "        raise ValueError(f\"Unexpected activation shape: {activation.shape}\")"
   ]
  },
  {
   "cell_type": "code",
   "execution_count": 5,
   "metadata": {},
   "outputs": [],
   "source": [
    "names = [\n",
    "    \"hook_embed.output\",\n",
    "    # \"blocks.0.hook_attn_out.output\",\n",
    "    # \"blocks.0.attn.hook_attn_scores.output\",\n",
    "    # \"blocks.0.attn.hook_q.output\",\n",
    "    # \"ln_final.hook_normalized.output\",\n",
    "]\n",
    "\n",
    "detector = detectors.MahalanobisDetector(names, layer_aggregation=\"mean\")"
   ]
  },
  {
   "cell_type": "code",
   "execution_count": 6,
   "metadata": {},
   "outputs": [
    {
     "name": "stdout",
     "output_type": "stream",
     "text": [
      "\n",
      "embed\n",
      "hook_embed\n",
      "pos_embed\n",
      "hook_pos_embed\n",
      "blocks\n",
      "blocks.0\n",
      "blocks.0.ln1\n",
      "blocks.0.ln1.hook_scale\n",
      "blocks.0.ln1.hook_normalized\n",
      "blocks.0.attn\n",
      "blocks.0.attn.hook_k\n",
      "blocks.0.attn.hook_q\n",
      "blocks.0.attn.hook_v\n",
      "blocks.0.attn.hook_z\n",
      "blocks.0.attn.hook_attn_scores\n",
      "blocks.0.attn.hook_pattern\n",
      "blocks.0.attn.hook_result\n",
      "blocks.0.hook_attn_in\n",
      "blocks.0.hook_q_input\n",
      "blocks.0.hook_k_input\n",
      "blocks.0.hook_v_input\n",
      "blocks.0.hook_mlp_in\n",
      "blocks.0.hook_attn_out\n",
      "blocks.0.hook_mlp_out\n",
      "blocks.0.hook_resid_pre\n",
      "blocks.0.hook_resid_post\n",
      "ln_final\n",
      "ln_final.hook_scale\n",
      "ln_final.hook_normalized\n",
      "unembed\n"
     ]
    }
   ],
   "source": [
    "for name, _ in task.model.named_modules():\n",
    "    print(name)"
   ]
  },
  {
   "cell_type": "code",
   "execution_count": 7,
   "metadata": {},
   "outputs": [
    {
     "name": "stderr",
     "output_type": "stream",
     "text": [
      "huggingface/tokenizers: The current process just got forked, after parallelism has already been used. Disabling parallelism to avoid deadlocks...\n",
      "To disable this warning, you can either:\n",
      "\t- Avoid using `tokenizers` before the fork if possible\n",
      "\t- Explicitly set the environment variable TOKENIZERS_PARALLELISM=(true | false)\n",
      "100%|██████████| 256/256 [00:01<00:00, 134.76it/s]\n"
     ]
    },
    {
     "data": {
      "application/vnd.jupyter.widget-view+json": {
       "model_id": "78dff355adee4191b8514783365a57b6",
       "version_major": 2,
       "version_minor": 0
      },
      "text/plain": [
       "Evaluating:   0%|          | 0/32 [00:00<?, ?it/s]"
      ]
     },
     "metadata": {},
     "output_type": "display_data"
    },
    {
     "name": "stderr",
     "output_type": "stream",
     "text": [
      "\u001b[32m2024-05-25 22:22:13.240\u001b[0m | \u001b[1mINFO    \u001b[0m | \u001b[36mcupbearer.detectors.anomaly_detector\u001b[0m:\u001b[36meval\u001b[0m:\u001b[36m152\u001b[0m - \u001b[1mAUC_ROC (all): 0.7204\u001b[0m\n",
      "\u001b[32m2024-05-25 22:22:13.240\u001b[0m | \u001b[1mINFO    \u001b[0m | \u001b[36mcupbearer.detectors.anomaly_detector\u001b[0m:\u001b[36meval\u001b[0m:\u001b[36m153\u001b[0m - \u001b[1mAP (all): 0.6272\u001b[0m\n"
     ]
    },
    {
     "data": {
      "text/plain": [
       "(defaultdict(dict,\n",
       "             {'all': {'AUC_ROC': 0.7204084396362305,\n",
       "               'AP': 0.6271838366488258}}),\n",
       " {'all': <Figure size 640x480 with 1 Axes>})"
      ]
     },
     "execution_count": 7,
     "metadata": {},
     "output_type": "execute_result"
    },
    {
     "data": {
      "image/png": "[encoded data removed]",
      "text/plain": [
       "<Figure size 640x480 with 1 Axes>"
      ]
     },
     "metadata": {},
     "output_type": "display_data"
    }
   ],
   "source": [
    "scripts.train_detector(\n",
    "    task, detector, save_path=None, eval_batch_size=64, batch_size=64\n",
    ")"
   ]
  },
  {
   "cell_type": "markdown",
   "metadata": {},
   "source": [
    "# Supervised skyline"
   ]
  },
  {
   "cell_type": "code",
   "execution_count": 8,
   "metadata": {},
   "outputs": [],
   "source": [
    "n_train = 512\n",
    "clean_train_data = Subset(task.test_data.normal_data, range(n_train))\n",
    "clean_test_data = Subset(task.test_data.normal_data, range(n_train, 1024))\n",
    "anomalous_train_data = Subset(task.test_data.anomalous_data, range(n_train))\n",
    "anomalous_test_data = Subset(task.test_data.anomalous_data, range(n_train, 1024))\n",
    "\n",
    "supervised_task = tasks.Task.from_separate_data(\n",
    "    model=task.model,\n",
    "    trusted_data=task.trusted_data,\n",
    "    clean_test_data=clean_test_data,\n",
    "    anomalous_test_data=anomalous_test_data,\n",
    "    clean_untrusted_data=clean_train_data,\n",
    "    anomalous_untrusted_data=anomalous_train_data,\n",
    "    untrusted_labels=True,\n",
    ")"
   ]
  },
  {
   "cell_type": "code",
   "execution_count": 9,
   "metadata": {},
   "outputs": [],
   "source": [
    "names = [\n",
    "    \"blocks.0.hook_attn_out.output\",\n",
    "    \"blocks.0.attn.hook_attn_scores.output\",\n",
    "    \"blocks.0.attn.hook_q.output\",\n",
    "    \"ln_final.hook_normalized.output\",\n",
    "]\n",
    "detector = detectors.SupervisedLinearProbe([names[0]], get_activation_at_last_token)"
   ]
  },
  {
   "cell_type": "code",
   "execution_count": 10,
   "metadata": {},
   "outputs": [
    {
     "data": {
      "application/vnd.jupyter.widget-view+json": {
       "model_id": "2817695558974d57a881c0bb51748269",
       "version_major": 2,
       "version_minor": 0
      },
      "text/plain": [
       "Evaluating:   0%|          | 0/16 [00:00<?, ?it/s]"
      ]
     },
     "metadata": {},
     "output_type": "display_data"
    },
    {
     "name": "stderr",
     "output_type": "stream",
     "text": [
      "\u001b[32m2024-05-25 22:22:28.557\u001b[0m | \u001b[1mINFO    \u001b[0m | \u001b[36mcupbearer.detectors.anomaly_detector\u001b[0m:\u001b[36meval\u001b[0m:\u001b[36m152\u001b[0m - \u001b[1mAUC_ROC (all): 0.9995\u001b[0m\n",
      "\u001b[32m2024-05-25 22:22:28.559\u001b[0m | \u001b[1mINFO    \u001b[0m | \u001b[36mcupbearer.detectors.anomaly_detector\u001b[0m:\u001b[36meval\u001b[0m:\u001b[36m153\u001b[0m - \u001b[1mAP (all): 0.9995\u001b[0m\n"
     ]
    },
    {
     "data": {
      "text/plain": [
       "(defaultdict(dict,\n",
       "             {'all': {'AUC_ROC': 0.9995498657226562,\n",
       "               'AP': 0.999538515911175}}),\n",
       " {'all': <Figure size 640x480 with 1 Axes>})"
      ]
     },
     "execution_count": 10,
     "metadata": {},
     "output_type": "execute_result"
    },
    {
     "data": {
      "image/png": "[encoded data removed]",
      "text/plain": [
       "<Figure size 640x480 with 1 Axes>"
      ]
     },
     "metadata": {},
     "output_type": "display_data"
    }
   ],
   "source": [
    "scripts.train_detector(\n",
    "    supervised_task, detector, save_path=None, eval_batch_size=64, batch_size=64\n",
    ")"
   ]
  },
  {
   "cell_type": "markdown",
   "metadata": {},
   "source": [
    "# LCAs"
   ]
  },
  {
   "cell_type": "code",
   "execution_count": 11,
   "metadata": {},
   "outputs": [],
   "source": [
    "class ElementwiseLinear(nn.Module):\n",
    "    def __init__(self, in_features, out_features):\n",
    "        super().__init__()\n",
    "        self.linear = nn.Linear(in_features, out_features)\n",
    "\n",
    "    def forward(self, x):\n",
    "        shape = x.shape[:-1]\n",
    "        assert x.ndim >= 3, shape\n",
    "        assert x.shape[-1] == self.linear.in_features, (\n",
    "            x.shape,\n",
    "            self.linear.in_features,\n",
    "        )\n",
    "        out_shape = x.shape[:-1] + (self.linear.out_features,)\n",
    "        return self.linear(x.view(-1, x.shape[-1])).view(*out_shape)"
   ]
  },
  {
   "cell_type": "code",
   "execution_count": 12,
   "metadata": {},
   "outputs": [],
   "source": [
    "with bf.BlobFile(\"gs://arc-ml-public/distinctions/datasets/hex_task.json\") as f:\n",
    "    task_config = json.load(f)\n",
    "\n",
    "# cpu to avoid MPS issues with tensors that are too large\n",
    "effect_tokens = torch.tensor(\n",
    "    task_config[\"effect_tokens\"], dtype=torch.long, device=\"cpu\"\n",
    ")\n",
    "\n",
    "\n",
    "class Quotient(nn.Module):\n",
    "    def __init__(self, effect_tokens):\n",
    "        super().__init__()\n",
    "        self.effect_tokens_mask = torch.zeros(\n",
    "            task.model.cfg.d_vocab, dtype=torch.bool, device=effect_tokens.device\n",
    "        )\n",
    "        self.effect_tokens_mask[effect_tokens] = True\n",
    "        self.non_effect_tokens_mask = ~self.effect_tokens_mask\n",
    "\n",
    "    def forward(self, logits):\n",
    "        assert logits.ndim >= 2, logits.shape\n",
    "        probs = torch.softmax(logits, dim=-1)\n",
    "        return torch.stack(\n",
    "            [\n",
    "                probs[..., self.effect_tokens_mask].sum(dim=-1),\n",
    "                probs[..., self.non_effect_tokens_mask].sum(dim=-1),\n",
    "            ],\n",
    "            dim=-1,\n",
    "        )"
   ]
  },
  {
   "cell_type": "code",
   "execution_count": 13,
   "metadata": {},
   "outputs": [
    {
     "name": "stdout",
     "output_type": "stream",
     "text": [
      "Moving model to device:  mps\n"
     ]
    }
   ],
   "source": [
    "config = deepcopy(task.model.cfg)\n",
    "config.d_model = 64\n",
    "config.d_head = 8\n",
    "config.d_mlp = 256  # Kind of unnecessary since this is attn-only\n",
    "config.d_vocab_out = 2  # We only want to predict whether the \"effect token\" comes next\n",
    "abstract_model = HookedTransformer(config, task.model.tokenizer).mps()\n",
    "abstract_model.init_weights()\n",
    "\n",
    "\n",
    "def processing_func(activation, inputs, name):\n",
    "    if name == \"unembed.output\":\n",
    "        return get_activation_at_last_token(activation, inputs, name)\n",
    "    else:\n",
    "        return activation\n",
    "\n",
    "\n",
    "tau_maps = {\n",
    "    # \"embed.output\": ElementwiseLinear(512, 64),\n",
    "    # \"blocks.0.hook_attn_out.output\": ElementwiseLinear(512, 64),\n",
    "    # \"ln_final.hook_normalized.output\": ElementwiseLinear(512, 64),\n",
    "    \"unembed.output\": Quotient(effect_tokens),\n",
    "    # The cross entropy loss we use expects the tau map output to be probabilities\n",
    "    # rather than unnormalized logits:\n",
    "    # \"unembed.output\": nn.Softmax(dim=-1),\n",
    "}\n",
    "# Default for the others will be L2\n",
    "loss_fns = {\n",
    "    \"unembed.output\": detectors.abstraction.cross_entropy,\n",
    "}\n",
    "abstraction = detectors.abstraction.LocallyConsistentAbstraction(\n",
    "    tau_maps,\n",
    "    abstract_model,\n",
    "    loss_fns=loss_fns,\n",
    "    # activation_processing_func=processing_func,\n",
    "    global_consistency=True,\n",
    ")"
   ]
  },
  {
   "cell_type": "code",
   "execution_count": 14,
   "metadata": {},
   "outputs": [
    {
     "name": "stderr",
     "output_type": "stream",
     "text": [
      "GPU available: True (mps), used: True\n",
      "TPU available: False, using: 0 TPU cores\n",
      "IPU available: False, using: 0 IPUs\n",
      "HPU available: False, using: 0 HPUs\n",
      "Missing logger folder: /Users/erik/code/cupbearer/notebooks/lightning_logs\n",
      "\n",
      "  | Name        | Type                         | Params\n",
      "-------------------------------------------------------------\n",
      "0 | abstraction | LocallyConsistentAbstraction | 3.2 M \n",
      "1 | model       | HookedTransformer            | 51.0 M\n",
      "-------------------------------------------------------------\n",
      "3.2 M     Trainable params\n",
      "51.0 M    Non-trainable params\n",
      "54.2 M    Total params\n",
      "216.867   Total estimated model params size (MB)\n"
     ]
    },
    {
     "name": "stdout",
     "output_type": "stream",
     "text": [
      "Moving model to device:  mps\n"
     ]
    },
    {
     "name": "stderr",
     "output_type": "stream",
     "text": [
      "/Users/erik/.pyenv/versions/3.10.9/envs/cupbearer/lib/python3.10/site-packages/lightning/pytorch/trainer/connectors/data_connector.py:441: The 'train_dataloader' does not have many workers which may be a bottleneck. Consider increasing the value of the `num_workers` argument` to `num_workers=7` in the `DataLoader` to improve performance.\n"
     ]
    },
    {
     "data": {
      "application/vnd.jupyter.widget-view+json": {
       "model_id": "ed8804e466414b0b8c63514cccfa0ddf",
       "version_major": 2,
       "version_minor": 0
      },
      "text/plain": [
       "Training: |          | 0/? [00:00<?, ?it/s]"
      ]
     },
     "metadata": {},
     "output_type": "display_data"
    },
    {
     "name": "stderr",
     "output_type": "stream",
     "text": [
      "`Trainer.fit` stopped: `max_epochs=5` reached.\n"
     ]
    },
    {
     "data": {
      "application/vnd.jupyter.widget-view+json": {
       "model_id": "7bdcdd1244fd49c08337f07996379860",
       "version_major": 2,
       "version_minor": 0
      },
      "text/plain": [
       "Evaluating:   0%|          | 0/32 [00:00<?, ?it/s]"
      ]
     },
     "metadata": {},
     "output_type": "display_data"
    },
    {
     "name": "stderr",
     "output_type": "stream",
     "text": [
      "\u001b[32m2024-05-25 22:25:31.870\u001b[0m | \u001b[1mINFO    \u001b[0m | \u001b[36mcupbearer.detectors.anomaly_detector\u001b[0m:\u001b[36meval\u001b[0m:\u001b[36m152\u001b[0m - \u001b[1mAUC_ROC (all): 0.4891\u001b[0m\n",
      "\u001b[32m2024-05-25 22:25:31.871\u001b[0m | \u001b[1mINFO    \u001b[0m | \u001b[36mcupbearer.detectors.anomaly_detector\u001b[0m:\u001b[36meval\u001b[0m:\u001b[36m153\u001b[0m - \u001b[1mAP (all): 0.5498\u001b[0m\n"
     ]
    },
    {
     "data": {
      "text/plain": [
       "(defaultdict(dict,\n",
       "             {'all': {'AUC_ROC': 0.4891061782836914,\n",
       "               'AP': 0.5497563218474965}}),\n",
       " {'all': <Figure size 640x480 with 1 Axes>})"
      ]
     },
     "execution_count": 14,
     "metadata": {},
     "output_type": "execute_result"
    },
    {
     "data": {
      "image/png": "[encoded data removed]",
      "text/plain": [
       "<Figure size 640x480 with 1 Axes>"
      ]
     },
     "metadata": {},
     "output_type": "display_data"
    }
   ],
   "source": [
    "detector = detectors.AbstractionDetector(\n",
    "    abstraction,\n",
    "    # activation_processing_func=processing_func,\n",
    ")\n",
    "task.model.to(\"mps\")\n",
    "scripts.train_detector(\n",
    "    task,\n",
    "    detector,\n",
    "    save_path=None,\n",
    "    eval_batch_size=64,\n",
    "    batch_size=64,\n",
    "    max_epochs=5,\n",
    "    accelerator=\"mps\",\n",
    ")"
   ]
  }
 ],
 "metadata": {
  "kernelspec": {
   "display_name": "cupbearer",
   "language": "python",
   "name": "python3"
  },
  "language_info": {
   "codemirror_mode": {
    "name": "ipython",
    "version": 3
   },
   "file_extension": ".py",
   "mimetype": "text/x-python",
   "name": "python",
   "nbconvert_exporter": "python",
   "pygments_lexer": "ipython3",
   "version": "3.10.9"
  }
 },
 "nbformat": 4,
 "nbformat_minor": 2
}
